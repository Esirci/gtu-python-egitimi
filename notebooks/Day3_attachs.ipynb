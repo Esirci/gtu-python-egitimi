{
  "nbformat": 4,
  "nbformat_minor": 0,
  "metadata": {
    "colab": {
      "provenance": []
    },
    "kernelspec": {
      "name": "python3",
      "display_name": "Python 3"
    },
    "language_info": {
      "name": "python"
    }
  },
  "cells": [
    {
      "cell_type": "markdown",
      "source": [
        "**Dosyadan okuma = .txt file, dosyaya yazma = .csv(excel style) file **\n",
        "\n",
        "* .txt dosyasını açarak veriyi oku.\n",
        "* Okunan veriyi uygun bir veri yapısında sakla. Örneğin, liste veya numpy dizisi gibi.\n",
        "* Pandas kütüphanesini kullanarak veriyi bir veri çerçevesine dönüştür.\n",
        "* Veri çerçevesini .csv formatında bir dosyaya yaz."
      ],
      "metadata": {
        "id": "DjptApb_D1Jl"
      }
    },
    {
      "cell_type": "code",
      "source": [
        "# .txt dosyasından veriyi oku\n",
        "with open(\"StudentList_colab.txt\", \"r\") as dosya:\n",
        "    veri = dosya.readlines()\n",
        "\n",
        "# Okunan veriyi uygun bir veri yapısında sakla\n",
        "veri = [satir.strip().split(\",\") for satir in veri]\n",
        "\n",
        "# Sütun başlıkları\n",
        "sutun_basliklari = [\"Numarası\", \"Ad-Soyad\", \"Notu\"]\n",
        "\n",
        "# .csv formatında bir dosya oluştur ve veriyi yaz\n",
        "#with open(\"veri.xlsx\", \"w\") as dosya:\n",
        "with open(\"veri.csv\", \"w\") as dosya:\n",
        "    # Sütun başlıklarını dosyaya yaz\n",
        "    dosya.write(\",\".join(sutun_basliklari) + \"\\n\")\n",
        "\n",
        "    # Her bir veri satırını .csv formatında dosyaya yaz\n",
        "    for satir in veri:\n",
        "      dosya.write(\",\".join(satir) + \"\\n\")\n",
        "\n",
        "      # \\n işareti alt satıra inmeye yarıyordu. satır sonu demek.\n",
        "      # bu sayede .txt de bulunan her satır = .csv de bir satır oldu.\n"
      ],
      "metadata": {
        "id": "_Rxtuf-QD0Og"
      },
      "execution_count": 25,
      "outputs": []
    },
    {
      "cell_type": "markdown",
      "source": [
        "**excel to text file**"
      ],
      "metadata": {
        "id": "xQvOLE2wGMd4"
      }
    },
    {
      "cell_type": "code",
      "source": [
        "!pip install openpyxl\n",
        "\n",
        "!pip install pandas"
      ],
      "metadata": {
        "colab": {
          "base_uri": "https://localhost:8080/"
        },
        "id": "OEDtK9nAHLf1",
        "outputId": "ab30972a-bf71-4b2a-dca1-ab70cbd91872"
      },
      "execution_count": 22,
      "outputs": [
        {
          "output_type": "stream",
          "name": "stdout",
          "text": [
            "Requirement already satisfied: openpyxl in /usr/local/lib/python3.10/dist-packages (3.1.2)\n",
            "Requirement already satisfied: et-xmlfile in /usr/local/lib/python3.10/dist-packages (from openpyxl) (1.1.0)\n",
            "Requirement already satisfied: pandas in /usr/local/lib/python3.10/dist-packages (1.5.3)\n",
            "Requirement already satisfied: python-dateutil>=2.8.1 in /usr/local/lib/python3.10/dist-packages (from pandas) (2.8.2)\n",
            "Requirement already satisfied: pytz>=2020.1 in /usr/local/lib/python3.10/dist-packages (from pandas) (2023.4)\n",
            "Requirement already satisfied: numpy>=1.21.0 in /usr/local/lib/python3.10/dist-packages (from pandas) (1.25.2)\n",
            "Requirement already satisfied: six>=1.5 in /usr/local/lib/python3.10/dist-packages (from python-dateutil>=2.8.1->pandas) (1.16.0)\n"
          ]
        }
      ]
    },
    {
      "cell_type": "code",
      "source": [
        "import pandas as pd\n",
        "\n",
        "# Excel dosyasını oku\n",
        "veri_cercevesi = pd.read_csv(\"veri.csv\")\n",
        "#veri_cercevesi = pd.read_excel(\"veri.xlsx\")\n",
        "\n",
        "# .txt dosyasına veriyi yaz\n",
        "with open(\"veri.txt\", \"w\") as dosya:\n",
        "    # Veri çerçevesini .txt dosyasına yaz\n",
        "    dosya.write(veri_cercevesi.to_string(index=False))"
      ],
      "metadata": {
        "id": "hf1kbc9mGQuA"
      },
      "execution_count": 29,
      "outputs": []
    },
    {
      "cell_type": "markdown",
      "source": [
        "Bu kod, normal dağılıma sahip bir veri seti oluşturur, bu veri setinin histogramını çizer, mu ve sigma değerlerini bulur, bu değerlere uygun bir PDF çizer, grafiği gösterir ve son olarak hata oranını hesaplar ve ekrana yazdırır.\n",
        "\n",
        "İşlem sırasında yapılan adımlar şu şekildedir:\n",
        "\n",
        "* Normal dağılıma sahip bir veri seti oluşturulur.\n",
        "* Veri setinin histogramı çizilir ve mu, sigma değerleri bulunur.\n",
        "* Bu değerlere uygun bir PDF çizilir.\n",
        "* Mu ve sigma değerleri grafiğe eklenir.\n",
        "* Grafiği gösterir. Hata oranı hesaplanır ve ekrana yazdırılır."
      ],
      "metadata": {
        "id": "asPEUyb1DVyH"
      }
    },
    {
      "cell_type": "code",
      "execution_count": 1,
      "metadata": {
        "colab": {
          "base_uri": "https://localhost:8080/",
          "height": 447
        },
        "id": "22_kCXRbDCuz",
        "outputId": "f386d68e-9dac-43e2-fd64-e026e03aa9a1"
      },
      "outputs": [
        {
          "output_type": "display_data",
          "data": {
            "text/plain": [
              "<Figure size 640x480 with 1 Axes>"
            ],
            "image/png": "[encoded data removed]"
          },
          "metadata": {}
        },
        {
          "output_type": "stream",
          "name": "stdout",
          "text": [
            "Mean Squared Error (MSE): 0.9742344563121542\n"
          ]
        }
      ],
      "source": [
        "import numpy as np\n",
        "import matplotlib.pyplot as plt\n",
        "from scipy.stats import norm\n",
        "\n",
        "# Veri setini oluştur\n",
        "np.random.seed(0)\n",
        "veri_seti = np.random.normal(loc=0, scale=1, size=1000)\n",
        "\n",
        "# Veri setinin histogramını çiz\n",
        "plt.hist(veri_seti, bins=30, density=True, alpha=0.6, color='g')\n",
        "\n",
        "# Veri setinin mu ve sigma değerlerini bul\n",
        "mu, sigma = norm.fit(veri_seti)\n",
        "\n",
        "# Probability density function (pdf) hesapla\n",
        "xmin, xmax = plt.xlim()\n",
        "x = np.linspace(xmin, xmax, 100)\n",
        "pdf = norm.pdf(x, mu, sigma)\n",
        "\n",
        "# PDF'yi çiz\n",
        "plt.plot(x, pdf, 'k', linewidth=2)\n",
        "\n",
        "# Mu ve sigma değerlerini ekrana yazdır\n",
        "plt.text(xmax * 0.65, 0.25, f'$\\mu={mu:.2f}$\\n$\\sigma={sigma:.2f}$', fontsize=12)\n",
        "\n",
        "# Grafiği göster\n",
        "plt.show()\n",
        "\n",
        "# Mean squared error (MSE) hesapla\n",
        "error_rate = np.mean((veri_seti - mu) ** 2)\n",
        "\n",
        "# Hata oranını ekrana yazdır\n",
        "print(\"Mean Squared Error (MSE):\", error_rate)"
      ]
    },
    {
      "cell_type": "markdown",
      "source": [
        "## display() fonksiyonu, birçok farklı veri türünü destekler ve her bir tür için en uygun görüntüleme yöntemini kullanır. Örneğin, bir veri çerçevesi gösterilirken tablo olarak, bir grafik gösterilirken grafik olarak görüntülenir."
      ],
      "metadata": {
        "id": "XwPw9JdRIlTo"
      }
    },
    {
      "cell_type": "code",
      "source": [
        "from IPython.display import display\n",
        "\n",
        "# Bir listeyi görüntüleme\n",
        "liste = [\"Ahmet\", \"Ayşe\", \"Ali\"]\n",
        "display(liste)\n",
        "\n",
        "# Veri listesi oluşturma\n",
        "veri = [[\"Ad\", \"Soyad\", \"Yaş\"],\n",
        "        [\"Ahmet\", \"Yılmaz\", 30],\n",
        "        [\"Ayşe\", \"Kara\", 25]]\n",
        "display(veri)\n"
      ],
      "metadata": {
        "colab": {
          "base_uri": "https://localhost:8080/",
          "height": 52
        },
        "id": "8NpLr5qyINol",
        "outputId": "79d5a97b-93af-438e-9c45-55876fc6807f"
      },
      "execution_count": 39,
      "outputs": [
        {
          "output_type": "display_data",
          "data": {
            "text/plain": [
              "['Ahmet', 'Ayşe', 'Ali']"
            ]
          },
          "metadata": {}
        },
        {
          "output_type": "display_data",
          "data": {
            "text/plain": [
              "[['Ad', 'Soyad', 'Yaş'], ['Ahmet', 'Yılmaz', 30], ['Ayşe', 'Kara', 25]]"
            ]
          },
          "metadata": {}
        }
      ]
    },
    {
      "cell_type": "code",
      "source": [
        "from IPython.display import Image\n",
        "\n",
        "# Resim gösterme\n",
        "image_path = \"image_nature.jpg\"\n",
        "display(Image(image_path))"
      ],
      "metadata": {
        "colab": {
          "base_uri": "https://localhost:8080/",
          "height": 256
        },
        "id": "K82SOZYcKAGN",
        "outputId": "1867f556-11a8-4fc1-d61e-72bd0acc5d19"
      },
      "execution_count": 38,
      "outputs": [
        {
          "output_type": "display_data",
          "data": {
            "image/jpeg": "[encoded data removed]",
            "text/plain": [
              "<IPython.core.display.Image object>"
            ]
          },
          "metadata": {}
        }
      ]
    }
  ]
}