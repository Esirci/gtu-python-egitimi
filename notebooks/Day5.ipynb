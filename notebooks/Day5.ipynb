{
  "nbformat": 4,
  "nbformat_minor": 0,
  "metadata": {
    "colab": {
      "provenance": []
    },
    "kernelspec": {
      "name": "python3",
      "display_name": "Python 3"
    },
    "language_info": {
      "name": "python"
    }
  },
  "cells": [
    {
      "cell_type": "markdown",
      "source": [
        "**Birlikte düşünelim**\n",
        "\n",
        "Sorunumuz: elimizde belli sayıda öğrenci ve hocalar var. Bu sayılar değişiklik gösterebilir. Yapmak istediğimiz her bir hocaya istenen sayıda öğrenci atamasını sağlamak. Bunu yaparken verilen kısıtları da uygulamalıyız. Bu atama işleyişi her döenm yapılacak ve birbirine bağlı olay zinciri oalrak düşünebiliriz.\n",
        "\n",
        "Kısıtlar;\n",
        "* Her öğrenci 3 hoca tercihi yapacaktır.\n",
        "* Her öğrenci daha önceki dönemlerde kayıtlanmadığı bir hocadan ders almalıdır. (şu an 4. ve son dönemde olduğumuzu varsayalım)\n",
        "* Her bir hoca eşit sayıda(ör:5gibi) öğrenci almalıdır.\n",
        "\n",
        "\n",
        "Adım adım algoritmayı düşünelim. Ve pseudocode (sözde kodu) tasarlayalım. Sonrasında kodlamaya gecebiliriz.\n",
        "\n",
        "Algoritma adımları:\n",
        "1-\n",
        "2-"
      ],
      "metadata": {
        "id": "IiTVc2vkKU8I"
      }
    },
    {
      "cell_type": "markdown",
      "source": [
        "Başla:\n",
        "\n",
        "1. Hocaları temsil etmek için boş bir hocaya atama tablosu oluştur.\n",
        "2. Hocaları ve öğrencileri rastgele sırayla bir listeye yerleştir.\n",
        "3. Her bir öğrenci için:\n",
        "  3.1. Öğrencinin 3 farklı tercihinin olduğu listeyi dosyadan oku.\n",
        "  3.2. Öğrencinin daha önce almadığı bir hocadan, öğrencinin tercihleri arasından rastgele seçilen bir hocaya ders alması sağla.\n",
        "  3.3. Seçilen hocanın tablosuna, ilgili öğrencinin bilgilerinin işlenmesi\n",
        "  3.4. Öğrencinin tercihlerinden hocanın çıkarılması.\n",
        "\n",
        "Bitir."
      ],
      "metadata": {
        "id": "AXJv0_grMMe_"
      }
    },
    {
      "cell_type": "code",
      "execution_count": null,
      "metadata": {
        "colab": {
          "base_uri": "https://localhost:8080/"
        },
        "id": "2jk302lTKTKf",
        "outputId": "ca107ae7-8caa-4e52-a823-ad70e1cf8c90"
      },
      "outputs": [
        {
          "output_type": "stream",
          "name": "stdout",
          "text": [
            "35\n"
          ]
        }
      ],
      "source": [
        "# Kodda her bir öğrenci için tercihlerini içeren dosyayı oluşturuyoruz.\n",
        "# gerçek hayatta bu dosya zaten elimizde olacak.\n",
        "\n",
        "import random\n",
        "import csv\n",
        "\n",
        "# Hoca sayısı\n",
        "hoca_sayisi = 7\n",
        "\n",
        "# Hoca kümesi\n",
        "hocalar = [f\"Hoca {i+1}\" for i in range(hoca_sayisi)]\n",
        "\n",
        "# Öğrenci sayısı\n",
        "ogrenci_sayisi = 35\n",
        "\n",
        "# Rastgele öğrenci adları listesi\n",
        "ogrenci_adlari = [\"Ali\", \"Veli\", \"Ayşe\", \"Fatma\", \"Ahmet\", \"Mehmet\", \"Zeynep\", \"Derya\", \"Mustafa\", \"Gizem\", \"Burak\", \"Deniz\", \"Elif\", \"Can\", \"Ebru\", \"Serkan\", \"Ceren\", \"Emre\", \"Kamil\", \"Nazlı\", \"Nihan\", \"Yusuf\", \"Selin\", \"Murat\", \"Gökçe\", \"Göksel\", \"Özge\", \"Barış\", \"Berk\", \"Begüm\", \"Batuhan\", \"Gül\", \"Yasemin\", \"Hakan\", \"Pınar\"]\n",
        "print(len(ogrenci_adlari))\n",
        "\n",
        "# CSV dosyasına yaz\n",
        "with open(\"Ogrenci_tercihleri.csv\", \"w\", newline=\"\") as file:\n",
        "  writer = csv.writer(file)\n",
        "  writer.writerow([\"Öğrenci Adı\", \"Tercih 1\", \"Tercih 2\", \"Tercih 3\", \"Donem 1 Alinan\", \"Donem 2 Alinan\", \"Donem 3 Alinan\"])\n",
        "\n",
        " # Her bir öğrenci için:\n",
        "  for _ in range(ogrenci_sayisi):  # Öğrenci sayısı kadar dön\n",
        "    # Rastgele hoca tercih listesi oluştur\n",
        "    hoca_tercih_listesi = random.sample(hocalar, 3)\n",
        "    onceden_alınan_listesi = list(set(hocalar) - set(hoca_tercih_listesi))\n",
        "    ogrenci_adi = ogrenci_adlari.pop(random.randint(0, len(ogrenci_adlari)-1))  # Rastgele bir öğrenci adı seç\n",
        "    writer.writerow([ogrenci_adi] + hoca_tercih_listesi + onceden_alınan_listesi)"
      ]
    },
    {
      "cell_type": "code",
      "source": [
        "ogrenci_adlari = [\"Ali\", \"Veli\", \"Ayşe\", \"Fatma\", \"Ahmet\", \"Mehmet\", \"Zeynep\", \"Derya\", \"Mustafa\", \"Gizem\", \"Burak\", \"Deniz\", \"Elif\", \"Can\", \"Ebru\", \"Serkan\", \"Ceren\", \"Emre\", \"Kamil\", \"Nazlı\", \"Nihan\", \"Yusuf\", \"Selin\", \"Murat\", \"Gökçe\", \"Göksel\", \"Özge\", \"Barış\", \"Berk\", \"Begüm\", \"Batuhan\", \"Gül\", \"Yasemin\", \"Hakan\", \"Pınar\"]\n",
        "\n",
        "# 1. Boş bir hocaya atama tablosu oluştur\n",
        "hoca_atama_tablosu = {f\"Hoca {i+1}\": [] for i in range(7)}\n",
        "\n",
        "# 2. Hocaları ve öğrencileri rastgele sırayla bir listeye yerleştir\n",
        "hocalar = list(hoca_atama_tablosu.keys())\n",
        "\n",
        "# 3. Her bir öğrenci için:\n",
        "# 3.1. Öğrencinin tercihlerini dosyadan oku\n",
        "with open(\"Ogrenci_tercihleri.csv\", \"r\") as file:\n",
        "  reader = csv.reader(file)\n",
        "  next(reader)  # Başlık satırını atla\n",
        "\n",
        "  for ogrenci_adi in ogrenci_adlari:\n",
        "    okunanSatır = next(reader)\n",
        "    tercihler = okunanSatır[1:4]\n",
        "    ogrencinin_onceki_aldıkları = okunanSatır[4:7]\n",
        "\n",
        "    # 3.2. Öğrencinin daha önce almadığı bir hocadan, tercihler arasından rastgele bir hocaya ders alması sağla\n",
        "    secilen_hoca = None\n",
        "    for tercih in tercihler[:]:\n",
        "      if len(hoca_atama_tablosu[tercih]) < 5 and (tercih not in ogrencinin_onceki_aldıkları):\n",
        "        secilen_hoca = tercih\n",
        "        break\n",
        "\n",
        "\n",
        "    # Eğer öğrenci herhangi bir tercihine atanamadıysa, boş bir hocaya ata\n",
        "    #if secilen_hoca is None:\n",
        "    #  for hoca, ogrenciler in hoca_atama_tablosu.items():\n",
        "    #    if len(ogrenciler) < 5:\n",
        "    #      secilen_hoca = hoca\n",
        "    #      break\n",
        "\n",
        "    #3.3. Seçilen hocanın tablosuna, ilgili öğrencinin bilgilerinin işlenmesi\n",
        "    if secilen_hoca is not None:\n",
        "      hoca_atama_tablosu[secilen_hoca].append(ogrenci_adi)\n",
        "\n",
        "# Sonuçları yazdır\n",
        "for hoca, ogrenciler in hoca_atama_tablosu.items():\n",
        "    print(f\"{hoca}: {ogrenciler}\")\n"
      ],
      "metadata": {
        "colab": {
          "base_uri": "https://localhost:8080/"
        },
        "id": "BsCAC9qFP8hW",
        "outputId": "2c5a2735-70f4-400d-ba7a-c9b4fe61be61"
      },
      "execution_count": null,
      "outputs": [
        {
          "output_type": "stream",
          "name": "stdout",
          "text": [
            "Hoca 1: ['Mehmet', 'Elif', 'Serkan', 'Kamil', 'Selin']\n",
            "Hoca 2: ['Ahmet', 'Nihan', 'Göksel', 'Gül', 'Hakan']\n",
            "Hoca 3: ['Ayşe', 'Can', 'Ebru', 'Yusuf', 'Gökçe']\n",
            "Hoca 4: ['Ali', 'Zeynep', 'Derya', 'Deniz', 'Pınar']\n",
            "Hoca 5: ['Mustafa', 'Murat', 'Barış', 'Begüm', 'Batuhan']\n",
            "Hoca 6: ['Veli', 'Fatma', 'Gizem', 'Burak', 'Emre']\n",
            "Hoca 7: ['Ceren', 'Nazlı', 'Özge', 'Berk', 'Yasemin']\n"
          ]
        }
      ]
    },
    {
      "cell_type": "code",
      "source": [
        "# Hocaların boş kontenjan bilgilerini tutacak bir liste oluştur\n",
        "bos_kontenjanlar = []\n",
        "for ogrenciler in hoca_atama_tablosu.values():\n",
        "  bos_kontenjanlar.append(5 - len(ogrenciler))"
      ],
      "metadata": {
        "id": "1tQYBER-Q5Cy"
      },
      "execution_count": null,
      "outputs": []
    },
    {
      "cell_type": "code",
      "source": [
        "# Kalan hocaları ve kontenjan bilgilerini al\n",
        "i = 0\n",
        "kalan_hocalar = []\n",
        "while i < len(bos_kontenjanlar):\n",
        "  if bos_kontenjanlar[i] > 0:\n",
        "    kalan_hocalar.append(f'Hoca {i+1}')\n",
        "  i += 1  # i'yi bir arttırır"
      ],
      "metadata": {
        "id": "DNW9Wvn8W--2"
      },
      "execution_count": null,
      "outputs": []
    },
    {
      "cell_type": "code",
      "source": [
        "# Atanmamış öğrencileri bul\n",
        "atanmamis_ogrenciler = []\n",
        "secilmis_ogrenciler = []\n",
        "\n",
        "for ogrenciler in hoca_atama_tablosu.values():\n",
        "  secilmis_ogrenciler += ogrenciler\n",
        "\n",
        "for ogrenci in ogrenci_adlari:\n",
        "  if ogrenci not in secilmis_ogrenciler:\n",
        "    print(ogrenci)\n",
        "    atanmamis_ogrenciler.append(ogrenci)"
      ],
      "metadata": {
        "id": "lM20w03CZMH-"
      },
      "execution_count": null,
      "outputs": []
    },
    {
      "cell_type": "code",
      "source": [
        "# Kalan öğrencileri kontenjanları dolmayan hocalara atayın\n",
        "for ogrenci_adi in atanmamis_ogrenciler:\n",
        "    secilen_hoca = random.choice(kalan_hocalar)  # Kontenjanı dolmayan hocalardan birini rastgele seç\n",
        "    hoca_atama_tablosu[secilen_hoca].append(ogrenci_adi)  # Öğrenciyi seçilen hocaya ekle\n",
        "\n",
        "    secilen_hoca_index = int(secilen_hoca[5])-1\n",
        "    bos_kontenjanlar[secilen_hoca_index] -= 1  # Seçilen hocanın kontenjanını bir azalt\n",
        "\n",
        "    # Eğer seçilen hocanın kontenjanı dolu ise, kalan hocalardan çıkar\n",
        "    if bos_kontenjanlar[secilen_hoca_index] == 0:\n",
        "        kalan_hocalar.remove(secilen_hoca)\n",
        "\n",
        "# Sonuçları yazdır\n",
        "for hoca, ogrenciler in hoca_atama_tablosu.items():\n",
        "    print(f\"{hoca}: {ogrenciler}\")"
      ],
      "metadata": {
        "colab": {
          "base_uri": "https://localhost:8080/"
        },
        "id": "l6ktCphcTGfB",
        "outputId": "1ca539fc-77fd-47c6-f6c9-36de6e8b6aee"
      },
      "execution_count": null,
      "outputs": [
        {
          "output_type": "stream",
          "name": "stdout",
          "text": [
            "Hoca 1: ['Mehmet', 'Elif', 'Serkan', 'Kamil', 'Selin']\n",
            "Hoca 2: ['Ahmet', 'Nihan', 'Göksel', 'Gül', 'Hakan']\n",
            "Hoca 3: ['Ayşe', 'Can', 'Ebru', 'Yusuf', 'Gökçe']\n",
            "Hoca 4: ['Ali', 'Zeynep', 'Derya', 'Deniz', 'Pınar']\n",
            "Hoca 5: ['Mustafa', 'Murat', 'Barış', 'Begüm', 'Batuhan']\n",
            "Hoca 6: ['Veli', 'Fatma', 'Gizem', 'Burak', 'Emre']\n",
            "Hoca 7: ['Ceren', 'Nazlı', 'Özge', 'Berk', 'Yasemin']\n"
          ]
        }
      ]
    }
  ]
}