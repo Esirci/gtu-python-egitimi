{
  "nbformat": 4,
  "nbformat_minor": 0,
  "metadata": {
    "colab": {
      "provenance": []
    },
    "kernelspec": {
      "name": "python3",
      "display_name": "Python 3"
    },
    "language_info": {
      "name": "python"
    }
  },
  "cells": [
    {
      "cell_type": "markdown",
      "source": [
        "\n",
        "### 2.derste değişkenlerden dizi (array), liste, karakter dizisi (string), ekrana yazdırma (print) dair blokları incelemiştik. Ekrana(konsola) yazdırmayı gördük, konsoldan veri alma için gerekli fonksiyon ve küçük bir örnek aşağıdadır. kendinizde değiştirerek deneyebilirsiniz.\n",
        "\n",
        "### Konsoldan veriyi almak için kullanılan fonksiyon: okunan_veri = input(\"metin\") şeklindedir.\n",
        "\n",
        "### Çözüm için derste kullanıdığımız notebooktan,googledan, chatgptden ve ya colab ekranınızdaki sağdaki colab AI'dan yardım alabilirsiniz."
      ],
      "metadata": {
        "id": "PUst5cGh-UPI"
      }
    },
    {
      "cell_type": "code",
      "execution_count": null,
      "metadata": {
        "colab": {
          "base_uri": "https://localhost:8080/"
        },
        "id": "Xl-RrUsE-R8N",
        "outputId": "83f601ba-9720-4ec4-fa10-e9b17e3cec42"
      },
      "outputs": [
        {
          "name": "stdout",
          "output_type": "stream",
          "text": [
            "Enter a string: 121\n",
            "Enter a number: 123\n"
          ]
        }
      ],
      "source": [
        "\n",
        "\n",
        "#Read a single line from the console\n",
        "input_string = input(\"Enter a string: \")  #buradaki \"\" içine istediğiniz cümleyi yazabilirsiniz, bu kullanıcıya iletmek istediğimiz metin\n",
        "\n",
        "#Read a number from the console\n",
        "input_number = int(input(\"Enter a number: \"))  #buradaki \"\" içine istediğiniz cümleyi yazabilirsiniz, bu kullanıcıya iletmek istediğimiz metin\n",
        "#aslında burada yukarıdaki ornekteki gibi input() fonksiyonu sayesinde konsoldan veriyi aldı. Bu veri string(karakter dizisi) idi.\n",
        "#string olan veriyi sayılar icin uygun olan formata, yani ineteger(int) formatına cevirmek icin int(donusturulecek_veri) yapısı kullanıldı."
      ]
    },
    {
      "cell_type": "code",
      "source": [
        "help(input())"
      ],
      "metadata": {
        "id": "0UwElH3kWEBa"
      },
      "execution_count": null,
      "outputs": []
    },
    {
      "cell_type": "markdown",
      "source": [
        "# **Soru1**\n",
        "\n",
        "### Kullanıcıdan iki adet sayı alın, bu sayılara A ve B olarak adlandıralım."
      ],
      "metadata": {
        "id": "ldoznYRKBwM6"
      }
    },
    {
      "cell_type": "code",
      "source": [
        "# Kullanıcıdan iki sayı alma\n",
        "A = int(input(\"Bir sayı girin: \"))\n",
        "B = int(input(\"Bir sayı girin: \"))"
      ],
      "metadata": {
        "id": "sFS5s0-LHtBa",
        "colab": {
          "base_uri": "https://localhost:8080/"
        },
        "outputId": "4ac22061-dd07-45ca-a4a6-8e6ab0bd5bbc"
      },
      "execution_count": null,
      "outputs": [
        {
          "name": "stdout",
          "output_type": "stream",
          "text": [
            "Bir sayı girin: 4\n",
            "Bir sayı girin: -5\n"
          ]
        }
      ]
    },
    {
      "cell_type": "markdown",
      "source": [
        "### Toplama işlemi için '1'e, çıkarma işlemi için '0'a basılması gerektiğini kullanıcıya bildirin ve girilen sayıyı alın.\n"
      ],
      "metadata": {
        "id": "UDAfR4mmH1cP"
      }
    },
    {
      "cell_type": "code",
      "source": [
        "#OperatorNum = int(input(\"Toplama icin 1, Cıkarma icin 0 girin: \"))\n",
        "KullanıcıdanSayıAlma = input(\"Toplama icin 1, Cıkarma icin 0 girin: \")\n",
        "OperatorNum = int(KullanıcıdanSayıAlma)"
      ],
      "metadata": {
        "id": "na9GDTPaTIjk",
        "colab": {
          "base_uri": "https://localhost:8080/"
        },
        "outputId": "c3626db0-8d8a-4ab2-df95-784e85f57af7"
      },
      "execution_count": null,
      "outputs": [
        {
          "name": "stdout",
          "output_type": "stream",
          "text": [
            "Toplama icin 1, Cıkarma icin 0 girin: 0\n"
          ]
        }
      ]
    },
    {
      "cell_type": "markdown",
      "source": [
        "### Ekranda istenen işleme ait sonucu gösterin. Örnek: kullanıcı 1'e bastığında ekranda \"toplama sonucu: xxx\" şeklinde bir metin görünmeli.\n",
        "\n",
        "## İpucu: Koşul (if-else) yapıları olmadan yapabilirsiniz, 1/0 girilerek yapılmak istenen aritmetik işlemin seçilme nedeni de tam olarak bu."
      ],
      "metadata": {
        "id": "ZSJZoPzQYmTB"
      }
    },
    {
      "cell_type": "code",
      "source": [
        "#################################\n",
        "#if-else yapısı kullanmadan cozum\n",
        "#konsolda gosterecegimiz sonuca dair mesaj icinde istenenleri yapabiliriz.\n",
        "#string concetanetaion (birleştime) işlemlerinden faydalanalım.\n",
        "#(A-B) seklindeki veri integerdir ve stringe donusturulmesi gerekmektedir.\n",
        "#peki neden *OperatorNum yapılıyor?\n",
        "#nedeni; if-else yapısı kullanmadan seçim yapabilmek\n",
        "\n",
        "#version3\n",
        "sonucMetni = \"Toplama Sonucu: \" * OperatorNum + str(A+B)\n",
        "sonucMetni += \"Cıkarma Sonucu: \" * (1-OperatorNum) + str(A-B)\n",
        "\n",
        "print(sonucMetni)\n",
        "\n",
        "#version2\n",
        "#yukarıdaki yapıdan once asagıdaki sekildeki bir fikrin aklınıza gelmesi normal, bu cozume versiyon1 diyebiliriz.\n",
        "#print(\"Toplama Sonucu: \" , (A+B) * OperatorNum)\n",
        "#print(\"Cıkarma Sonucu: \" , (A-B) * (1-OperatorNum))\n",
        "\n",
        "#version1\n",
        "#print(\"Toplama Sonucu: \" , (A+B))\n",
        "#print(\"Cıkarma Sonucu: \" , (A-B))\n"
      ],
      "metadata": {
        "colab": {
          "base_uri": "https://localhost:8080/"
        },
        "id": "-FJ4v809VT-5",
        "outputId": "3db9f240-54bb-449d-d5b0-de4b2f03785c"
      },
      "execution_count": null,
      "outputs": [
        {
          "output_type": "stream",
          "name": "stdout",
          "text": [
            "Toplama Sonucu:  0\n",
            "Cıkarma Sonucu:  9\n"
          ]
        }
      ]
    },
    {
      "cell_type": "code",
      "source": [
        "#######################\n",
        "#if-else yapısıyla cozum\n",
        "#if KullanıcıdanSayıAlma == \"1\":\n",
        "#  print(\"Toplama Sonucu: \" , (A+B))\n",
        "#elif KullanıcıdanSayıAlma == \"0\":\n",
        "#   print(\"Cıkarma Sonucu: \" , (A-B))\n",
        "\n",
        "if OperatorNum == 1:\n",
        "  print(\"Toplama Sonucu: \" , (A+B))\n",
        "elif OperatorNum == 0:\n",
        "   print(\"Cıkarma Sonucu: \" , (A-B))\n",
        "else:\n",
        "  print(\"gecersiz islem\")"
      ],
      "metadata": {
        "id": "rwI-LL7v5wHe",
        "colab": {
          "base_uri": "https://localhost:8080/"
        },
        "outputId": "12d6c6a0-6efb-4941-a548-f2464fcd1303"
      },
      "execution_count": null,
      "outputs": [
        {
          "output_type": "stream",
          "name": "stdout",
          "text": [
            "Cıkarma Sonucu:  9\n"
          ]
        }
      ]
    },
    {
      "cell_type": "code",
      "source": [
        "# Get user input for operation type\n",
        "operation_type = int(input(\"Enter 1 for addition or 0 for subtraction: \"))\n",
        "\n",
        "# Get user input for two integers\n",
        "num1 = int(input(\"Enter the first integer: \"))\n",
        "num2 = int(input(\"Enter the second integer: \"))\n",
        "\n",
        "# Perform the operation based on the input without if-else\n",
        "result = num1 + (num2 * -2 * operation_type)\n",
        "\n",
        "# Print the result\n",
        "print(\"The result is: \", result,num1, num2)\n",
        "print(f\"The result is: {result} {num1} {num2}\")"
      ],
      "metadata": {
        "colab": {
          "base_uri": "https://localhost:8080/"
        },
        "id": "5PtwA-1TdyXs",
        "outputId": "7b598565-45b4-4eb6-b6cb-5a8cbe9b0bcd"
      },
      "execution_count": null,
      "outputs": [
        {
          "output_type": "stream",
          "name": "stdout",
          "text": [
            "Enter 1 for addition or 0 for subtraction: 1\n",
            "Enter the first integer: 5\n",
            "Enter the second integer: 5\n",
            "The result is:  -5 5 5\n",
            "The result is: -5 5 5\n"
          ]
        }
      ]
    },
    {
      "cell_type": "code",
      "source": [
        "#KOSUL YAPILARINDAN IF-ELSE YAPSII ORNEGİ\n",
        "#if ........\n",
        "#yapılacak....\n",
        "#elif = else if .....\n",
        "#yapılacak...\n",
        "#else...\n",
        "\n",
        "\n",
        "# Örnek: Bir öğrencinin notuna göre harf notunu belirleme\n",
        "grade = -10\n",
        "\n",
        "if grade >= 90:   #grade adlı degiskenin degeri büyük eşitse 90dan\n",
        "    print(\"AA\")\n",
        "elif grade >= 80: #grade adlı degiskenin degeri büyük eşitse 80dan\n",
        "    print(\"BA\")\n",
        "elif grade >= 70: #grade adlı degiskenin degeri büyük eşitse 70dan\n",
        "    print(\"BB\")\n",
        "elif grade >= 60: #grade adlı degiskenin degeri büyük eşitse 60dan\n",
        "    print(\"CB\")\n",
        "elif grade >= 50: #grade adlı degiskenin degeri büyük eşitse 50dan\n",
        "    print(\"CC\")\n",
        "elif grade >=0:             #grade adlı degiskeni yukarıdaki kosul durumlarından hicbirini saglamadıysa\n",
        "    print(\"FF\")\n",
        "else:\n",
        "    print('eksi deger!!')"
      ],
      "metadata": {
        "id": "c6rh3bJ47q_w",
        "colab": {
          "base_uri": "https://localhost:8080/"
        },
        "outputId": "b75d89f2-6564-47a7-8480-a42bb3453cfd"
      },
      "execution_count": null,
      "outputs": [
        {
          "output_type": "stream",
          "name": "stdout",
          "text": [
            "eksi deger!!\n"
          ]
        }
      ]
    },
    {
      "cell_type": "markdown",
      "source": [
        "##Soru2\n",
        "\n",
        "Basit bir hesap makinesi uygulaması yapmanız bekleniyor. Kullanıcıdan iki adet sayı ve işleme ait numara değerini almalısınız.\n",
        "\n",
        "Toplama için 1, Çıkarma için 2, Çarpma için 3, Bölme için 4 girilmesi gerekmektedir.\n",
        "\n",
        "```\n",
        "Yapılmak istenen işlem için sayı giriniz: 4\n",
        "İlk sayıyı girin: 38\n",
        "İkinci sayıyı girin: 12\n",
        "\n",
        "Bölme işlemi sonucu: 3.16\n",
        "```"
      ],
      "metadata": {
        "id": "_xfupoo059fT"
      }
    },
    {
      "cell_type": "code",
      "source": [
        "print(\"Hesap Makinesi Uygulamasına Hoş Geldiniz!\")\n",
        "#\\n = new line = imleci alt satıra gec\n",
        "#secim = input(\"İşlem Seçenekleri\\n:(1/2/3/4/5): \")\n",
        "\n",
        "# Kullanıcıdan ilk işlem seçimini alın.\n",
        "print(\"İşlem Seçenekleri:\")\n",
        "print(\"1. Toplama\")\n",
        "print(\"2. Çıkarma\")\n",
        "print(\"3. Çarpma\")\n",
        "print(\"4. Bölme\")\n",
        "print(\"5. Çıkış\")\n",
        "print(\"Lütfen bir işlem seçin (1/2/3/4/5): \")\n",
        "secim = input()\n",
        "\n",
        "\n"
      ],
      "metadata": {
        "id": "tO3P-F6S6Q0z",
        "colab": {
          "base_uri": "https://localhost:8080/"
        },
        "outputId": "ce535198-18d9-466c-f08d-dc058039a07b"
      },
      "execution_count": null,
      "outputs": [
        {
          "name": "stdout",
          "output_type": "stream",
          "text": [
            "Hesap Makinesi Uygulamasına Hoş Geldiniz!\n",
            "İşlem Seçenekleri:\n",
            "1. Toplama\n",
            "2. Çıkarma\n",
            "3. Çarpma\n",
            "4. Bölme\n",
            "5. Çıkış\n",
            "Lütfen bir işlem seçin (1/2/3/4/5): \n",
            "4\n"
          ]
        }
      ]
    },
    {
      "cell_type": "code",
      "source": [
        "  #kullanıcıdan iki adet sayıyı alın.\n",
        "\n",
        "  # İlk sayıyı kullanıcıdan al\n",
        "  sayi1 = int(input(\"İlk sayıyı girin: \"))\n",
        "  # İkinci sayıyı kullanıcıdan al\n",
        "  sayi2 = int(input(\"İkinci sayıyı girin: \"))\n"
      ],
      "metadata": {
        "id": "uoPzR19269Kb",
        "colab": {
          "base_uri": "https://localhost:8080/"
        },
        "outputId": "2ba96af1-8a57-4b5a-92eb-db508b390d50"
      },
      "execution_count": null,
      "outputs": [
        {
          "name": "stdout",
          "output_type": "stream",
          "text": [
            "İlk sayıyı girin: 12\n",
            "İkinci sayıyı girin: 0\n"
          ]
        }
      ]
    },
    {
      "cell_type": "code",
      "source": [
        "#if-else yapısını kullanmanız gerekli.\n",
        "#bunun için yukarıdaki if-else yapısını ve ya ders notebookundaki örnekleri kullanabilirsiniz.\n",
        "\n",
        "# toplama seçildiyse toplama işlemini yaparak, ekranda sonucu gösterebilirsiniz.\n",
        "\n",
        "# Toplama işlemi seçildiyse\n",
        "if secim == '1':\n",
        "      # Toplama işlemini gerçekleştir ve sonucu yazdır\n",
        "      print(\"Sonuç:\", sayi1 + sayi2)\n",
        "  # Çıkarma işlemi seçildiyse\n",
        "elif secim == '2':\n",
        "    # Çıkarma işlemini gerçekleştir ve sonucu yazdır\n",
        "    print(\"Sonuç:\", sayi1 - sayi2)\n",
        "# Çarpma işlemi seçildiyse\n",
        "elif secim == '3':\n",
        "    # Çarpma işlemini gerçekleştir ve sonucu yazdır\n",
        "    print(\"Sonuç:\", sayi1 * sayi2)\n",
        "# Bölme işlemi seçildiyse\n",
        "elif secim == '4':\n",
        "    # İkinci sayı sıfıra eşitse bölme işlemini gerçekleştirmeyip uyarı yazdır\n",
        "    if sayi2 == 0:\n",
        "        print(\"Bölen sıfır olamaz!\")\n",
        "    # İkinci sayı sıfıra eşit değilse bölme işlemini gerçekleştir ve sonucu yazdır\n",
        "    else:\n",
        "        print(\"Sonuç:\", sayi1 / sayi2)\n",
        "# Geçersiz bir seçim yapıldıysa\n",
        "else:\n",
        "    print(\"Geçersiz giriş! Lütfen 1, 2, 3, 4 veya 5'i seçin.\")\n",
        "\n",
        "\n",
        "    print(\"islem bitti\")"
      ],
      "metadata": {
        "id": "x7JqNbfQ69Yl",
        "colab": {
          "base_uri": "https://localhost:8080/"
        },
        "outputId": "505d66a2-8d53-4d10-eb9b-a64b17fc5584"
      },
      "execution_count": null,
      "outputs": [
        {
          "output_type": "stream",
          "name": "stdout",
          "text": [
            "Bölen sıfır olamaz!\n"
          ]
        }
      ]
    },
    {
      "cell_type": "markdown",
      "source": [
        "# Soru 3\n",
        "\n",
        "Kullanıcıdan saniye cinsinden bir süre girmesini isteyin ve bunu bir float'a dönüştürün. Floata dönüştürme kod bloğunda verilmiştir.\n",
        "\n",
        "Saniyeleri günlere, saatlere, dakikalara ve saniyelere dönüştüren bir Python programı yazın.\n",
        "\n",
        "Örneğin kullanıcının girdiği 1234565 değeri için aşağıdaki gibi bir çıktı elde etmesini sağlayın :\n",
        "\n",
        "\n",
        "```\n",
        "Saniye cinsinden zamanı yazınız: 1234565\n",
        "14.0 gün, 6.0 saat, 56.0 dakika, ve 5.0 saniye\n",
        "```"
      ],
      "metadata": {
        "id": "A5VZj8pH_SGQ"
      }
    },
    {
      "cell_type": "code",
      "source": [
        "# Kullanıcıdan saniye cinsinden bir zaman süresi girmesini ve bunu bir float'a dönüştürmesini isteyin.\n",
        "time = float(input(\"Saniye cinsinden zamanı yazınız: \"))\n",
        "\n",
        "# Verilen süre içindeki tam gün sayısını hesaplayın.\n",
        "day = time // (24 * 3600)\n",
        "# Tam günleri çıkardıktan sonra kalan saniyeleri tutmak için zaman değişkenini güncelleyin.\n",
        "time = time % (24 * 3600)\n",
        "\n",
        "# Kalan süredeki tam saat sayısını hesaplayın.\n",
        "hour = time // 3600\n",
        "# Tam saatleri çıkardıktan sonra kalan saniyeleri tutmak için zaman değişkenini güncelleyin.\n",
        "time %= 3600\n",
        "\n",
        "# Kalan süredeki tam dakika sayısını hesaplayın.\n",
        "minutes = time // 60\n",
        "# Tam dakikaları çıkardıktan sonra kalan saniyeleri tutmak için zaman değişkenini güncelleyin.\n",
        "time %= 60\n",
        "\n",
        "# 'time' değişkeni artık kalan saniyeleri temsil eder ve bu da saniye sayısıdır.\n",
        "seconds = time\n",
        "\n",
        "# Zaman süresini biçimli olarak yazdırın.\n",
        "print(f\"{day} gün, {hour} saat, {minutes} dakika, ve {seconds} saniye\")"
      ],
      "metadata": {
        "id": "GEbK2q5qBDpC"
      },
      "execution_count": null,
      "outputs": []
    }
  ]
}