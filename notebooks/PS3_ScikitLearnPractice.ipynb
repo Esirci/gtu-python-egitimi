{
  "cells": [
    {
      "cell_type": "markdown",
      "metadata": {
        "id": "aRPYYV6Jt5tJ"
      },
      "source": [
        "# Scikit-Learn PS\n",
        "\n",
        "Bu not defteri Scikit-Learn egzersizleri için bir dizi görev içermektedir.\n",
        "Kütüphane kullanımı ile ilgili referans olarak kullanabileceğiniz dokümantasyona [Scikit-Learn documnetation](https://scikit-learn.org/stable/user_guide.html) bağlantısından ulaşabilirsiniz.\n",
        "\n"
      ]
    },
    {
      "cell_type": "code",
      "execution_count": null,
      "metadata": {
        "id": "YH_72t9nt5tM"
      },
      "outputs": [],
      "source": [
        "%matplotlib inline\n",
        "import matplotlib.pyplot as plt\n",
        "import pandas as pd\n",
        "import numpy as np"
      ]
    },
    {
      "cell_type": "markdown",
      "metadata": {
        "id": "Tm-72HG-t5tM"
      },
      "source": [
        "## Uçtan uca Scikit-Learn Sınıflandırma İş Akışı\n",
        "\n",
        "Bu görev için sırasıyla aşağıdaki adımları uygulayacağız:\n",
        "1. Veri kümesi hazırlama\n",
        "2. Tahminler yapmak için bir makine öğrenimi modeli hazırlama\n",
        "3. Modeli verilere uydurma ve bir tahminde bulunma\n",
        "4. Modelin tahminlerini değerlendirme\n",
        "\n",
        "Kullanacağımız veriler [GitHub'da depolanmıştır](https://github.com/mrdbourke/zero-to-mastery-ml/tree/master/data). Anonim hasta verilerini ve kalp hastalığı olup olmadıklarını içeren bir veri kümesi olan [`heart-disease.csv`](https://raw.githubusercontent.com/mrdbourke/zero-to-mastery-ml/master/data/heart-disease.csv) ile başlayacağız.\n",
        "\n",
        "**Not:** GitHub'da bir `.csv' görüntülerken, ham formatta olduğundan emin olun. Örneğin, URL şöyle görünmelidir: https://raw.githubusercontent.com/mrdbourke/zero-to-mastery-ml/master/data/heart-disease.csv\n",
        "\n",
        "### 1. Veri kümesini hazırlama\n"
      ]
    },
    {
      "cell_type": "code",
      "execution_count": null,
      "metadata": {
        "id": "vn1VJog0t5tN",
        "outputId": "cc8bc1a7-8ae3-43da-d3bc-9106a4ff6721"
      },
      "outputs": [
        {
          "data": {
            "text/html": [
              "<div>\n",
              "<style scoped>\n",
              "    .dataframe tbody tr th:only-of-type {\n",
              "        vertical-align: middle;\n",
              "    }\n",
              "\n",
              "    .dataframe tbody tr th {\n",
              "        vertical-align: top;\n",
              "    }\n",
              "\n",
              "    .dataframe thead th {\n",
              "        text-align: right;\n",
              "    }\n",
              "</style>\n",
              "<table border=\"1\" class=\"dataframe\">\n",
              "  <thead>\n",
              "    <tr style=\"text-align: right;\">\n",
              "      <th></th>\n",
              "      <th>age</th>\n",
              "      <th>sex</th>\n",
              "      <th>cp</th>\n",
              "      <th>trestbps</th>\n",
              "      <th>chol</th>\n",
              "      <th>fbs</th>\n",
              "      <th>restecg</th>\n",
              "      <th>thalach</th>\n",
              "      <th>exang</th>\n",
              "      <th>oldpeak</th>\n",
              "      <th>slope</th>\n",
              "      <th>ca</th>\n",
              "      <th>thal</th>\n",
              "      <th>target</th>\n",
              "    </tr>\n",
              "  </thead>\n",
              "  <tbody>\n",
              "    <tr>\n",
              "      <th>0</th>\n",
              "      <td>63</td>\n",
              "      <td>1</td>\n",
              "      <td>3</td>\n",
              "      <td>145</td>\n",
              "      <td>233</td>\n",
              "      <td>1</td>\n",
              "      <td>0</td>\n",
              "      <td>150</td>\n",
              "      <td>0</td>\n",
              "      <td>2.3</td>\n",
              "      <td>0</td>\n",
              "      <td>0</td>\n",
              "      <td>1</td>\n",
              "      <td>1</td>\n",
              "    </tr>\n",
              "    <tr>\n",
              "      <th>1</th>\n",
              "      <td>37</td>\n",
              "      <td>1</td>\n",
              "      <td>2</td>\n",
              "      <td>130</td>\n",
              "      <td>250</td>\n",
              "      <td>0</td>\n",
              "      <td>1</td>\n",
              "      <td>187</td>\n",
              "      <td>0</td>\n",
              "      <td>3.5</td>\n",
              "      <td>0</td>\n",
              "      <td>0</td>\n",
              "      <td>2</td>\n",
              "      <td>1</td>\n",
              "    </tr>\n",
              "    <tr>\n",
              "      <th>2</th>\n",
              "      <td>41</td>\n",
              "      <td>0</td>\n",
              "      <td>1</td>\n",
              "      <td>130</td>\n",
              "      <td>204</td>\n",
              "      <td>0</td>\n",
              "      <td>0</td>\n",
              "      <td>172</td>\n",
              "      <td>0</td>\n",
              "      <td>1.4</td>\n",
              "      <td>2</td>\n",
              "      <td>0</td>\n",
              "      <td>2</td>\n",
              "      <td>1</td>\n",
              "    </tr>\n",
              "    <tr>\n",
              "      <th>3</th>\n",
              "      <td>56</td>\n",
              "      <td>1</td>\n",
              "      <td>1</td>\n",
              "      <td>120</td>\n",
              "      <td>236</td>\n",
              "      <td>0</td>\n",
              "      <td>1</td>\n",
              "      <td>178</td>\n",
              "      <td>0</td>\n",
              "      <td>0.8</td>\n",
              "      <td>2</td>\n",
              "      <td>0</td>\n",
              "      <td>2</td>\n",
              "      <td>1</td>\n",
              "    </tr>\n",
              "    <tr>\n",
              "      <th>4</th>\n",
              "      <td>57</td>\n",
              "      <td>0</td>\n",
              "      <td>0</td>\n",
              "      <td>120</td>\n",
              "      <td>354</td>\n",
              "      <td>0</td>\n",
              "      <td>1</td>\n",
              "      <td>163</td>\n",
              "      <td>1</td>\n",
              "      <td>0.6</td>\n",
              "      <td>2</td>\n",
              "      <td>0</td>\n",
              "      <td>2</td>\n",
              "      <td>1</td>\n",
              "    </tr>\n",
              "  </tbody>\n",
              "</table>\n",
              "</div>"
            ],
            "text/plain": [
              "   age  sex  cp  trestbps  chol  fbs  restecg  thalach  exang  oldpeak  slope  \\\n",
              "0   63    1   3       145   233    1        0      150      0      2.3      0   \n",
              "1   37    1   2       130   250    0        1      187      0      3.5      0   \n",
              "2   41    0   1       130   204    0        0      172      0      1.4      2   \n",
              "3   56    1   1       120   236    0        1      178      0      0.8      2   \n",
              "4   57    0   0       120   354    0        1      163      1      0.6      2   \n",
              "\n",
              "   ca  thal  target  \n",
              "0   0     1       1  \n",
              "1   0     2       1  \n",
              "2   0     2       1  \n",
              "3   0     2       1  \n",
              "4   0     2       1  "
            ]
          },
          "execution_count": 2,
          "metadata": {},
          "output_type": "execute_result"
        }
      ],
      "source": [
        "# Kalp hastalığı veri kümesini içe aktarın ve bir değişkene kaydedin\n",
        "# pandas ve read_csv() kullanarak\n",
        "# İpucu: Bir csv'nin URL'sini read_csv() işlevine doğrudan aktarabilirsiniz\n",
        "heart_disease =\n",
        "\n",
        "# Verilerin ilk 5 satırını kontrol edin\n",
        "heart_disease.head()"
      ]
    },
    {
      "cell_type": "markdown",
      "metadata": {
        "id": "SjuikITbt5tN"
      },
      "source": [
        "Buradaki amacımız, `target`i tahmin etmek için `target` dışındaki tüm sütunlar üzerinde bir makine öğrenmesi modeli oluşturmaktır.\n",
        "\n",
        "Özünde, `target` sütunu bizim **hedef değişkenimiz** (`y` veya `labels` olarak da adlandırılır) ve diğer sütunlar da bağımsız değişkenlerimizdir (`data` veya `X` olarak da adlandırılır).\n",
        "\n",
        "Hedef değişkenimiz bir şey ya da başka bir şey (kalp hastalığı ya da değil) olduğundan, problemimizin bir sınıflandırma problemi olduğunu biliyoruz.\n",
        "\n",
        "Bunu bilerek, dataframe'i bölerek `X` ve `y` oluşturalım.\n"
      ]
    },
    {
      "cell_type": "code",
      "execution_count": null,
      "metadata": {
        "id": "dOqJrVSat5tN"
      },
      "outputs": [],
      "source": [
        "# X oluştur (target hariç tüm sütunlar)\n",
        "X =\n",
        "\n",
        "# y oluşturun (yalnızca target sütunu)\n",
        "y ="
      ]
    },
    {
      "cell_type": "markdown",
      "metadata": {
        "id": "X_9JdcWWt5tO"
      },
      "source": [
        "Şimdi verilerimizi `X` ve `y` olarak ayırdık, Scikit-Learn'ı kullanarak eğitim ve test kümelerine ayıracağız."
      ]
    },
    {
      "cell_type": "code",
      "execution_count": null,
      "metadata": {
        "id": "nGDCN2eIt5tO"
      },
      "outputs": [],
      "source": [
        "from sklearn.model_selection import train_test_split\n",
        "\n",
        "#X & y'yi eğitim ve test kümelerine ayırmak için train_test_split kullanın.\n"
      ]
    },
    {
      "cell_type": "code",
      "execution_count": null,
      "metadata": {
        "id": "Uh51ee2st5tO",
        "outputId": "a8c54115-31a1-4500-903b-4cc800b42446"
      },
      "outputs": [
        {
          "data": {
            "text/plain": [
              "((227, 13), (76, 13), (227,), (76,))"
            ]
          },
          "execution_count": 5,
          "metadata": {},
          "output_type": "execute_result"
        }
      ],
      "source": [
        "# Eğitim ve test veri kümelerinin boyutlarını (shape) görüntüleyin\n",
        "\n"
      ]
    },
    {
      "cell_type": "markdown",
      "metadata": {
        "id": "sa3HI7t0t5tO"
      },
      "source": [
        "Verilerimiz artık eğitim ve test kümelerinde olduğundan, eğitim verilerindeki kalıplara uyacak bir makine öğrenmesi modeli oluşturacağız ve ardından test verileri üzerinde tahminler yapacağız.\n",
        "\n",
        "Hangi makine öğrenimi modelini kullanmamız gerektiğini bulmak için [Scikit-Learn'ün makine öğrenimi haritasına] (https://scikit-learn.org/stable/tutorial/machine_learning_map/index.html) başvurabilirsiniz.\n",
        "\n",
        "Haritayı takip ettikten sonra [`RandomForestClassifier`](https://scikit-learn.org/stable/modules/generated/sklearn.ensemble.RandomForestClassifier.html) kullanmaya karar vediğimizi varsayalım.\n",
        "\n",
        "### 2. Bir makine öğrenmesi modeli hazırlama\n"
      ]
    },
    {
      "cell_type": "code",
      "execution_count": null,
      "metadata": {
        "id": "WVzvSeSWt5tP"
      },
      "outputs": [],
      "source": [
        "from sklearn.ensemble import RandomForestClassifier\n",
        "clf = RandomForestClassifier()"
      ]
    },
    {
      "cell_type": "markdown",
      "metadata": {
        "id": "KvDFBXHEt5tP"
      },
      "source": [
        "Artık bir `RandomForestClassifier` objemiz var, şimdi bunu eğitim verilerine uyduralım.\n",
        "\n",
        "Uyum sağlandıktan sonra, test verileri üzerinde tahminler yapacağız.\n",
        "\n",
        "\n",
        "### 3. Model eğitme ve tahminlerde bulunma"
      ]
    },
    {
      "cell_type": "code",
      "execution_count": null,
      "metadata": {
        "id": "mcDEDXUft5tP",
        "outputId": "b698cbfa-cddc-4476-e5b6-05927e632d0b"
      },
      "outputs": [
        {
          "data": {
            "text/plain": [
              "RandomForestClassifier(bootstrap=True, ccp_alpha=0.0, class_weight=None,\n",
              "                       criterion='gini', max_depth=None, max_features='auto',\n",
              "                       max_leaf_nodes=None, max_samples=None,\n",
              "                       min_impurity_decrease=0.0, min_impurity_split=None,\n",
              "                       min_samples_leaf=1, min_samples_split=2,\n",
              "                       min_weight_fraction_leaf=0.0, n_estimators=100,\n",
              "                       n_jobs=None, oob_score=False, random_state=None,\n",
              "                       verbose=0, warm_start=False)"
            ]
          },
          "execution_count": 7,
          "metadata": {},
          "output_type": "execute_result"
        }
      ],
      "source": [
        "# RandomForestClassifier'ı eğitim verileri ile eğitin(fit).\n",
        "\n"
      ]
    },
    {
      "cell_type": "code",
      "execution_count": null,
      "metadata": {
        "id": "sFwFrNtot5tP"
      },
      "outputs": [],
      "source": [
        "# Test verileri üzerinde tahminler yapmak için eğitilmiş modeli kullanın ve\n",
        "# tahminleri y_preds adlı bir değişkene kaydedin\n"
      ]
    },
    {
      "cell_type": "markdown",
      "metadata": {
        "id": "4t7-a6FAt5tP"
      },
      "source": [
        "### 4. Bir modelin tahminlerinin değerlendirilmesi\n",
        "Tahminleri değerlendirmek, tahmin yapmak kadar önemlidir. Modelimizin nasıl çalıştığını `score()` metodunu çağırarak ve eğitim (`X_train, y_train`) ve test verilerini geçirerek kontrol edelim."
      ]
    },
    {
      "cell_type": "code",
      "execution_count": null,
      "metadata": {
        "id": "6TuGelstt5tP",
        "outputId": "a0998819-c275-477a-83f3-704acfbffa65"
      },
      "outputs": [
        {
          "data": {
            "text/plain": [
              "1.0"
            ]
          },
          "execution_count": 9,
          "metadata": {},
          "output_type": "execute_result"
        }
      ],
      "source": [
        "# eğitilmiş modeli score() fonksiyonunu kullanarak eğitim seti üzerinde değerlendirin.\n"
      ]
    },
    {
      "cell_type": "code",
      "execution_count": null,
      "metadata": {
        "id": "4_NJOEKyt5tP",
        "outputId": "74a975ee-194d-4b46-a907-45355a0289e5"
      },
      "outputs": [
        {
          "data": {
            "text/plain": [
              "0.8026315789473685"
            ]
          },
          "execution_count": 10,
          "metadata": {},
          "output_type": "execute_result"
        }
      ],
      "source": [
        "# eğitilmiş modeli score() fonksiyonunu kullanarak test seti üzerinde değerlendirin.\n"
      ]
    },
    {
      "cell_type": "markdown",
      "metadata": {
        "id": "0m80F3aet5tP"
      },
      "source": [
        "## Farklı sınıflandırma modellerinin denenmesi\n",
        "\n",
        "Şimdi uçtan uca Scikit-Learn iş akışını hızlı bir şekilde ele aldık ve deney yapmak makine öğreniminin büyük bir parçası olduğundan, şimdi bir dizi farklı makine öğrenimi modelini deneyeceğiz ve veri setimizde hangisinin en iyi sonuçları verdiğini göreceğiz.\n",
        "\n",
        "Scikit-Learn makine öğrenimi haritasını] (https://scikit-learn.org/stable/tutorial/machine_learning_map/index.html) incelediğimizde, deneyebileceğimiz bir dizi farklı sınıflandırma modeli olduğunu görüyoruz.\n",
        "\n",
        "Bu alıştırma için deneyeceğimiz ve karşılaştıracağımız modeller şunlardır:\n",
        "* [LinearSVC](https://scikit-learn.org/stable/modules/svm.html#classification)\n",
        "* [KNeighborsClassifier](https://scikit-learn.org/stable/modules/neighbors.html) (K-En Yakın Komşular veya KNN olarak da bilinir)\n",
        "* [SVM](https://scikit-learn.org/stable/modules/svm.html#classification) (destek vektör sınıflandırıcısı olarak da bilinir, [destek vektör makinesi](https://en.wikipedia.org/wiki/Support-vector_machine)'nin bir biçimi)\n",
        "* [LogisticRegression](https://scikit-learn.org/stable/modules/generated/sklearn.linear_model.LogisticRegression.html) (ismine rağmen, bu aslında bir sınıflandırıcıdır)\n",
        "* [RandomForestClassifier](https://scikit-learn.org/stable/modules/generated/sklearn.ensemble.RandomForestClassifier.html) (bir topluluk yöntemi ve yukarıda kullandığımız)\n"
      ]
    },
    {
      "cell_type": "code",
      "execution_count": 1,
      "metadata": {
        "id": "lWchHb-ft5tP"
      },
      "outputs": [],
      "source": [
        "from sklearn.svm import LinearSVC\n",
        "from sklearn.neighbors import KNeighborsClassifier\n",
        "from sklearn.svm import SVC\n",
        "from sklearn.linear_model import LogisticRegression"
      ]
    },
    {
      "cell_type": "markdown",
      "metadata": {
        "id": "s4SP1l6Ut5tQ"
      },
      "source": [
        "Scikit-Learn'ün API tasarımının tutarlılığı sayesinde, modellerimizin her birini eğitmek, değerlendirmek ve tahminlerde bulunmak için neredeyse aynı kodu kullanabiliriz.\n",
        "\n",
        "Hangi modelin en iyi performansı gösterdiğini görmek için aşağıdakileri yapacağız:\n",
        "\n",
        "1. Her modeli bir sözlükte örnekleyin\n",
        "2. Boş bir sonuçlar sözlüğü oluşturun\n",
        "3. Her bir modeli eğitim verileri ile eğitin.\n",
        "4. Her modeli test verileri üzerinde değerlendirin.\n",
        "5. Sonuçları kontrol edin\n",
        "\n",
        "Her bir modeli bir sözlükte örneklemenin ne anlama geldiğini merak ediyorsanız, aşağıdaki örneğe bakın."
      ]
    },
    {
      "cell_type": "code",
      "execution_count": null,
      "metadata": {
        "id": "TKRTme3Gt5tQ"
      },
      "outputs": [],
      "source": [
        "# ÖRNEK: Sözlükte bir RandomForestClassifier() örneği oluşturma\n",
        "example_dict = {\"RandomForestClassifier\": RandomForestClassifier()}\n",
        "\n",
        "# İçe aktardığımız tüm sınıflandırma modellerini içeren modeller adında bir sözlük oluşturun\n",
        "# Sözlüğün example_dict ile aynı formatta olduğundan emin olun\n",
        "# Modeller sözlüğü 5 model içermelidir\n",
        "\n",
        "models = {\n",
        "\n",
        "\n",
        "\n",
        "\n",
        "\n",
        "        }\n",
        "\n",
        "# results adında boş bir sözlük oluşturun\n",
        "results = {}"
      ]
    },
    {
      "cell_type": "markdown",
      "metadata": {
        "id": "SOrEZaC9t5tQ"
      },
      "source": [
        "Kullandığımız her model aynı `fit()` ve `score()` fonksiyonlarına sahip olduğundan, model sözlüğümüz boyunca döngü yapabilir ve eğitim verileri üzerinde `fit()` fonksiyonunu çağırabilir ve ardından test verileri ile `score()` fonksiyonunu çağırabiliriz."
      ]
    },
    {
      "cell_type": "code",
      "execution_count": null,
      "metadata": {
        "id": "6QiaN47yt5tQ",
        "outputId": "17031990-4585-4ab0-e691-ed5a7b87ef82"
      },
      "outputs": [
        {
          "data": {
            "text/plain": [
              "{'RandomForestClassifier': 0.7631578947368421}"
            ]
          },
          "execution_count": 13,
          "metadata": {},
          "output_type": "execute_result"
        }
      ],
      "source": [
        "# ÖRNEK: example_dict üzerinden döngü modeli eğitme ve puanlama\n",
        "example_results = {}\n",
        "for model_name, model in example_dict.items():\n",
        "\n",
        "\n",
        "\n",
        "\n",
        "example_results"
      ]
    },
    {
      "cell_type": "code",
      "execution_count": null,
      "metadata": {
        "id": "z8cAbkTbt5tQ",
        "outputId": "b1bd2ca7-505a-4b87-a600-54fece996838"
      },
      "outputs": [
        {
          "name": "stderr",
          "output_type": "stream",
          "text": [
            "/Users/daniel/Desktop/ml-course/zero-to-mastery-ml/env/lib/python3.6/site-packages/sklearn/svm/_base.py:947: ConvergenceWarning: Liblinear failed to converge, increase the number of iterations.\n",
            "  \"the number of iterations.\", ConvergenceWarning)\n",
            "/Users/daniel/Desktop/ml-course/zero-to-mastery-ml/env/lib/python3.6/site-packages/sklearn/linear_model/_logistic.py:939: ConvergenceWarning: lbfgs failed to converge (status=1):\n",
            "STOP: TOTAL NO. of ITERATIONS REACHED LIMIT.\n",
            "\n",
            "Increase the number of iterations (max_iter) or scale the data as shown in:\n",
            "    https://scikit-learn.org/stable/modules/preprocessing.html.\n",
            "Please also refer to the documentation for alternative solver options:\n",
            "    https://scikit-learn.org/stable/modules/linear_model.html#logistic-regression\n",
            "  extra_warning_msg=_LOGISTIC_SOLVER_CONVERGENCE_MSG)\n"
          ]
        },
        {
          "data": {
            "text/plain": [
              "{'LinearSVC': 0.7631578947368421,\n",
              " 'KNN': 0.6447368421052632,\n",
              " 'SVC': 0.618421052631579,\n",
              " 'LogisticRegression': 0.7894736842105263,\n",
              " 'RandomForestClassifier': 0.7631578947368421}"
            ]
          },
          "execution_count": 14,
          "metadata": {},
          "output_type": "execute_result"
        }
      ],
      "source": [
        "# Sözlük öğeleri arasında döngü yaparak modeli eğitim verileri ile eğitme\n",
        "# ve test verilerindeki model adını ve model puanını sonuçlar sözlüğüne ekleme\n",
        "for model_name, model in models.items():\n",
        "\n",
        "\n",
        "results"
      ]
    },
    {
      "cell_type": "markdown",
      "metadata": {
        "id": "aSRt360ct5tQ"
      },
      "source": [
        "Sonuçlarımızı biraz daha görsel hale getirelim."
      ]
    },
    {
      "cell_type": "code",
      "execution_count": null,
      "metadata": {
        "id": "fd5oTL3mt5tQ",
        "outputId": "7d5f338c-121d-4f8e-d6eb-cdf4dd64ea6d"
      },
      "outputs": [
        {
          "data": {
            "image/png": "[encoded data removed]",
            "text/plain": [
              "<Figure size 432x288 with 1 Axes>"
            ]
          },
          "metadata": {
            "needs_background": "light"
          },
          "output_type": "display_data"
        }
      ],
      "source": [
        "# Sonuçlar sözlüğünün değerleri olarak verilerle birlikte bir pandas dataframe oluşturun,\n",
        "# sonuçlar sözlüğünün anahtarları olarak dizin ve doğruluk adlı tek bir sütun.\n",
        "# Veri çerçevesini bir değişkene kaydettiğinizden emin olun.\n",
        "\n",
        "results_df = pd.DataFrame(\n",
        "\n",
        "\n",
        "\n",
        ")\n",
        "\n",
        "# plot.bar() kullanarak sonuç dataframe'inin çubuk grafiğini oluşturun\n"
      ]
    },
    {
      "cell_type": "markdown",
      "metadata": {
        "id": "iV94j8t4t5tR"
      },
      "source": [
        "### Sınıflandırıcı Model Değerlendirmesi\n",
        "\n",
        "Sınıflandırma söz konusu olduğunda, muhtemelen aşağıdakiler de dahil olmak üzere birkaç değerlendirme ölçütü daha kullanmak isteyeceksiniz:\n",
        "\n",
        "* [**Confusion matrix**](https://www.dataschool.io/simple-guide-to-confusion-matrix-terminology/) - Tahmin edilen değerleri gerçek değerlerle tablo şeklinde karşılaştırır, %100 doğruysa matristeki tüm değerler sol üstten sağ alta (diagnol çizgisi) olacaktır.\n",
        "\n",
        "* [**Cross-validation**](https://scikit-learn.org/stable/modules/cross_validation.html) - Veri setinizi birden fazla parçaya böler ve modelinizi her parça üzerinde eğitir ve test eder ve performansı ortalama olarak değerlendirir.\n",
        "\n",
        "* [**Precision**](https://scikit-learn.org/stable/modules/generated/sklearn.metrics.precision_score.html#sklearn.metrics.precision_score) - Toplam örnek sayısı üzerinden doğru pozitiflerin oranı. Daha yüksek hassasiyet daha az yanlış pozitif sonuç verir.\n",
        "\n",
        "* [**Recall**](https://scikit-learn.org/stable/modules/generated/sklearn.metrics.recall_score.html#sklearn.metrics.recall_score) - Toplam doğru pozitif ve yanlış pozitif sayısı üzerinden doğru pozitiflerin oranı. Daha yüksek geri çağırma daha az yanlış negatife yol açar.\n",
        "\n",
        "* [**F1 score**](https://scikit-learn.org/stable/modules/generated/sklearn.metrics.f1_score.html#sklearn.metrics.f1_score) - Kesinlik ve geri çağırmayı tek bir metrikte birleştirir. 1 en iyi, 0 en kötüdür.\n",
        "\n",
        "* [**Classification report**](https://scikit-learn.org/stable/modules/generated/sklearn.metrics.classification_report.html) - Sklearn, kesinlik, geri çağırma ve f1-skoru gibi bazı ana sınıflandırma ölçümlerini döndüren `classification_report()` adlı yerleşik bir işleve sahiptir.\n",
        "* [**ROC Curve**](https://scikit-learn.org/stable/modules/generated/sklearn.metrics.roc_score.html) - [Receiver Operating Characterisitc](https://en.wikipedia.org/wiki/Receiver_operating_characteristic), doğru pozitif oranına karşı yanlış pozitif oranının bir grafiğidir.\n",
        "* [**Eğri Altındaki Alan (AUC)**](https://scikit-learn.org/stable/modules/generated/sklearn.metrics.roc_auc_score.html) - ROC eğrisinin altındaki alan. Mükemmel bir model 1.0 puan alır.\n"
      ]
    },
    {
      "cell_type": "code",
      "execution_count": null,
      "metadata": {
        "id": "SycXfUTqt5tR"
      },
      "outputs": [],
      "source": [
        "# RandomizedSearchCV'den en iyi hiperparametreleri kullanarak bir LogisticRegression sınıflandırıcı oluşturun\n",
        "clf = LogisticRegression(solver=\"liblinear\", C=0.23357214690901212)\n",
        "\n",
        "# LogisticRegression'ın yeni örneğini eğitim verilerine en iyi hiperparametrelerle eğitin\n",
        "clf.fit(X_train, y_train);"
      ]
    },
    {
      "cell_type": "markdown",
      "metadata": {
        "id": "nJfabLNGt5tR"
      },
      "source": [
        "Şimdi sıra, peşinde olduğumuz sınıflandırma değerlendirme metriklerinin her biri için ilgili Scikit-Learn yöntemlerini içe aktarmaya geldi."
      ]
    },
    {
      "cell_type": "code",
      "execution_count": null,
      "metadata": {
        "id": "-lzpbjbnt5ta"
      },
      "outputs": [],
      "source": [
        "from sklearn.metrics import confusion_matrix, classification_report\n",
        "from sklearn.metrics import precision_score, recall_score, f1_score"
      ]
    },
    {
      "cell_type": "markdown",
      "metadata": {
        "id": "Um59E_1-t5tb"
      },
      "source": [
        "Değerlendirme metrikleri genellikle bir modelin tahminlerini bazı temel gerçek etiketleriyle karşılaştırır.\n",
        "\n",
        "En son modelimizi kullanarak test verileri üzerinde bazı tahminler yapalım ve bunları `y_preds` dosyasına kaydedelim."
      ]
    },
    {
      "cell_type": "code",
      "execution_count": null,
      "metadata": {
        "id": "s9AnmwLSt5tb"
      },
      "outputs": [],
      "source": [
        "# Test verileri üzerinde tahminler yapın ve bunları kaydedin\n"
      ]
    },
    {
      "cell_type": "markdown",
      "metadata": {
        "id": "lBY5YOJ9t5tb"
      },
      "source": [
        "Time to use the predictions our model has made to evaluate it beyond accuracy."
      ]
    },
    {
      "cell_type": "code",
      "execution_count": null,
      "metadata": {
        "id": "yUtnicMjt5tb",
        "outputId": "2a39779b-a2bb-4d81-9b7a-fde709053169"
      },
      "outputs": [
        {
          "data": {
            "text/plain": [
              "array([[24, 11],\n",
              "       [ 5, 36]])"
            ]
          },
          "execution_count": 24,
          "metadata": {},
          "output_type": "execute_result"
        }
      ],
      "source": [
        "# confusion_matrix işlevini kullanarak bir karışıklık matrisi oluşturun\n"
      ]
    },
    {
      "cell_type": "markdown",
      "metadata": {
        "id": "OUmyMqS9t5tb"
      },
      "source": [
        "**Zorluk:** Scikit-Learn'deki dahili `confusion_matrix' işlevi çok görsel olmayan bir şey üretir, karışıklık matrisinizi nasıl daha görsel hale getirebilirsiniz?\n",
        "\n",
        "\"Karışıklık matrisi nasıl çizilir\" gibi bir şey aramak isteyebilirsiniz. Not: Bunu yapmanın birden fazla yolu olabilir."
      ]
    },
    {
      "cell_type": "code",
      "execution_count": null,
      "metadata": {
        "id": "cgT2y_vwt5tb",
        "outputId": "74974abe-4cfc-4829-c863-85c0fcd13226"
      },
      "outputs": [
        {
          "data": {
            "image/png": "[encoded data removed]",
            "text/plain": [
              "<Figure size 216x216 with 1 Axes>"
            ]
          },
          "metadata": {
            "needs_background": "light"
          },
          "output_type": "display_data"
        }
      ],
      "source": [
        "# Karışıklık matrisinin görselleştirilmesini iyileştirmek için seaborn'u içe aktarın\n",
        "import seaborn as sns\n",
        "\n",
        "# Karışıklık matrisini daha görsel hale getirin\n",
        "def plot_conf_mat(y_test, y_preds):\n",
        "    \"\"\"\n",
        "    Plots a confusion matrix using Seaborn's heatmap().\n",
        "    \"\"\"\n",
        "    fig, ax = plt.subplots(figsize=(3, 3))\n",
        "    ax = sns.heatmap(confusion_matrix(y_test, y_preds),\n",
        "                     annot=True, # Annotate the boxes\n",
        "                     cbar=False)\n",
        "    plt.xlabel(\"True label\")\n",
        "    plt.ylabel(\"Predicted label\")\n",
        "\n",
        "    # Fix the broken annotations (this happened in Matplotlib 3.1.1)\n",
        "    bottom, top = ax.get_ylim()\n",
        "    ax.set_ylim(bottom + 0.5, top - 0.5);\n",
        "\n",
        "plot_conf_mat(y_test, y_preds)"
      ]
    },
    {
      "cell_type": "markdown",
      "metadata": {
        "id": "ag8r04klt5tb"
      },
      "source": [
        "Sınıflandırma raporuna ne dersiniz?"
      ]
    },
    {
      "cell_type": "code",
      "execution_count": 2,
      "metadata": {
        "colab": {
          "base_uri": "https://localhost:8080/",
          "height": 162
        },
        "id": "jvgvImW5t5tb",
        "outputId": "8ee4858b-c4c6-497a-b10b-44aad5a3cbfc"
      },
      "outputs": [
        {
          "output_type": "error",
          "ename": "NameError",
          "evalue": "name 'classification_report' is not defined",
          "traceback": [
            "\u001b[0;31m---------------------------------------------------------------------------\u001b[0m",
            "\u001b[0;31mNameError\u001b[0m                                 Traceback (most recent call last)",
            "\u001b[0;32m<ipython-input-2-a948a0fc9eaa>\u001b[0m in \u001b[0;36m<cell line: 2>\u001b[0;34m()\u001b[0m\n\u001b[1;32m      1\u001b[0m \u001b[0;31m# Sınıflandırma Raporu\u001b[0m\u001b[0;34m\u001b[0m\u001b[0;34m\u001b[0m\u001b[0m\n\u001b[0;32m----> 2\u001b[0;31m \u001b[0mprint\u001b[0m\u001b[0;34m(\u001b[0m\u001b[0mclassification_report\u001b[0m\u001b[0;34m(\u001b[0m\u001b[0my_test\u001b[0m\u001b[0;34m,\u001b[0m \u001b[0my_preds\u001b[0m\u001b[0;34m)\u001b[0m\u001b[0;34m)\u001b[0m\u001b[0;34m\u001b[0m\u001b[0;34m\u001b[0m\u001b[0m\n\u001b[0m",
            "\u001b[0;31mNameError\u001b[0m: name 'classification_report' is not defined"
          ]
        }
      ],
      "source": [
        "# Sınıflandırma Raporu\n",
        "print(classification_report(y_test, y_preds))"
      ]
    },
    {
      "cell_type": "code",
      "execution_count": null,
      "metadata": {
        "id": "XnIKe17Wt5tb",
        "outputId": "2fd6ccbb-7480-44d2-ceac-df75bda3deee"
      },
      "outputs": [
        {
          "data": {
            "text/plain": [
              "0.7659574468085106"
            ]
          },
          "execution_count": 27,
          "metadata": {},
          "output_type": "execute_result"
        }
      ],
      "source": [
        "# precision_score() kullanarak modelin precision puanını bulun\n"
      ]
    },
    {
      "cell_type": "code",
      "execution_count": null,
      "metadata": {
        "id": "V0u0t_Pat5tb",
        "outputId": "cf77a845-0a77-455f-d7fb-846091efe9e5"
      },
      "outputs": [
        {
          "data": {
            "text/plain": [
              "0.8780487804878049"
            ]
          },
          "execution_count": 28,
          "metadata": {},
          "output_type": "execute_result"
        }
      ],
      "source": [
        "# Recall puanını bulun\n"
      ]
    },
    {
      "cell_type": "code",
      "execution_count": null,
      "metadata": {
        "id": "4R2sxDlNt5tc",
        "outputId": "713f35b9-cac3-4afa-9b63-2773acb66c8c"
      },
      "outputs": [
        {
          "data": {
            "text/plain": [
              "0.8181818181818182"
            ]
          },
          "execution_count": 29,
          "metadata": {},
          "output_type": "execute_result"
        }
      ],
      "source": [
        "# F1 skorunu bulun\n"
      ]
    }
  ],
  "metadata": {
    "kernelspec": {
      "display_name": "Python 3",
      "language": "python",
      "name": "python3"
    },
    "language_info": {
      "codemirror_mode": {
        "name": "ipython",
        "version": 3
      },
      "file_extension": ".py",
      "mimetype": "text/x-python",
      "name": "python",
      "nbconvert_exporter": "python",
      "pygments_lexer": "ipython3",
      "version": "3.7.6"
    },
    "colab": {
      "provenance": []
    }
  },
  "nbformat": 4,
  "nbformat_minor": 0
}