{
  "nbformat": 4,
  "nbformat_minor": 0,
  "metadata": {
    "colab": {
      "provenance": []
    },
    "kernelspec": {
      "name": "python3",
      "display_name": "Python 3"
    },
    "language_info": {
      "name": "python"
    }
  },
  "cells": [
    {
      "cell_type": "markdown",
      "source": [
        "# Soru 1\n",
        "\n",
        "Kullanıcıdan saniye cinsinden bir süre girmesini isteyin ve bunu bir float'a dönüştürün. Saniyeleri günlere, saatlere, dakikalara ve saniyelere dönüştüren bir Python programı yazın.\n",
        "Örneğin kullanıcının girdiği 1234565 değeri için aşağıdaki gibi bir çıktı elde etmesini sağlayın :\n",
        "\n",
        "\n",
        "```\n",
        "Saniye cinsinden zamanı yazınız: 1234565\n",
        "14.0 gün, 6.0 saat, 56.0 dakika, ve 5.0 saniye\n",
        "```\n",
        "\n",
        "\n",
        "\n",
        "\n"
      ],
      "metadata": {
        "id": "HlcS_ZzhYyUv"
      }
    },
    {
      "cell_type": "code",
      "source": [
        "# Kullanıcıdan saniye cinsinden bir zaman süresi girmesini ve bunu bir float'a dönüştürmesini isteyin.\n",
        "time = float(input(\"Saniye cinsinden zamanı yazınız: \"))\n",
        "\n",
        "# Verilen süre içindeki tam gün sayısını hesaplayın.\n",
        "day = time // (24 * 3600)\n",
        "# Tam günleri çıkardıktan sonra kalan saniyeleri tutmak için zaman değişkenini güncelleyin.\n",
        "time = time % (24 * 3600)\n",
        "\n",
        "# Kalan süredeki tam saat sayısını hesaplayın.\n",
        "hour = time // 3600\n",
        "# Tam saatleri çıkardıktan sonra kalan saniyeleri tutmak için zaman değişkenini güncelleyin.\n",
        "time %= 3600\n",
        "\n",
        "# Kalan süredeki tam dakika sayısını hesaplayın.\n",
        "minutes = time // 60\n",
        "# Tam dakikaları çıkardıktan sonra kalan saniyeleri tutmak için zaman değişkenini güncelleyin.\n",
        "time %= 60\n",
        "\n",
        "# 'time' değişkeni artık kalan saniyeleri temsil eder ve bu da saniye sayısıdır.\n",
        "seconds = time\n",
        "\n",
        "# Zaman süresini biçimli olarak yazdırın.\n",
        "print(f\"{day} gün, {hour} saat, {minutes} dakika, ve {seconds} saniye\")\n"
      ],
      "metadata": {
        "colab": {
          "base_uri": "https://localhost:8080/"
        },
        "id": "Cer1p4tudMPc",
        "outputId": "366405f7-6857-463f-91b4-db52cacc8149"
      },
      "execution_count": null,
      "outputs": [
        {
          "output_type": "stream",
          "name": "stdout",
          "text": [
            "Saniye cinsinden zamanı yazınız: 1234565\n",
            "14.0 gün, 6.0 saat, 56.0 dakika, ve 5.0 saniye\n"
          ]
        }
      ]
    },
    {
      "cell_type": "markdown",
      "source": [
        "# Soru 2\n",
        "\n",
        "Virgülle ayrılmış sayı dizisini girdi olarak kabul eden ve ardından 5'e bölünebilir olup olmadıklarını kontrol eden bir program yazın. 5'e bölünebilen sayılar virgülle ayrılmış bir sıra halinde yazdırılacaktır.\n",
        "\n",
        "Örnek:\n",
        "\n",
        "Virgülle ayrılmış sayılar giriniz: 3100,1003,1030,3001\n",
        "\n",
        "5'e bölünen sayılar: 3100,1030\n"
      ],
      "metadata": {
        "id": "0sPXF4z4gK7N"
      }
    },
    {
      "cell_type": "code",
      "source": [
        "\n",
        "# Kullanıcıdan girdi alın\n",
        "numbers = input(\"Virgülle ayrılmış sayılar giriniz:  \")\n",
        "\n",
        "\n",
        "# Giriş dizesini bir sayı listesine bölün\n",
        "numbers_list = numbers.split(\",\")\n",
        "\n",
        "# Bölünebilir sayıları saklamak için boş bir liste başlatın\n",
        "divisible_numbers = []\n",
        "\n",
        "# Sayılar listesinde yineleme\n",
        "for number in numbers_list:\n",
        "  # String'i tamsayıya (int) dönüştürme\n",
        "  number = int(number)\n",
        "\n",
        "  # Sayının 5 ile bölünebilir olup olmadığını kontrol edin\n",
        "  if number % 5 == 0:\n",
        "  # Sayıyı bölünebilir sayılar listesine ekleyin\n",
        "    divisible_numbers.append(str(number))\n",
        "\n",
        "# Bölünebilir sayıları virgülle ayrılmış bir dizede birleştirin\n",
        "result = \",\".join(divisible_numbers)\n",
        "\n",
        "# Sonucu yazdırın\n",
        "print(f\"5'e bölünen sayılar: {result}\")"
      ],
      "metadata": {
        "colab": {
          "base_uri": "https://localhost:8080/"
        },
        "id": "N0Fn0beTofMZ",
        "outputId": "25cba4b7-75f2-4acc-a654-7fe24fc2ad05"
      },
      "execution_count": null,
      "outputs": [
        {
          "output_type": "stream",
          "name": "stdout",
          "text": [
            "Virgülle ayrılmış sayılar giriniz:  4567\n",
            "5'e bölünen sayılar: \n"
          ]
        }
      ]
    },
    {
      "cell_type": "markdown",
      "source": [
        "# SORU 3\n",
        "Kullanıcıların bir e-ticaret sitesine kayıt olmak için oluşturacakları hesap için geçerli kullanıcı adı ve şifre seçmesi gerekmektedir. Kullanıcılar tarafından girilen şifrenin geçerliliğini kontrol etmek için bir program yazmalısınız.\n",
        "\n",
        "Şifreyi kontrol etmek için kriterler aşağıdaki gibidir:\n",
        "\n",
        "*   [a-z] harfleri arasından enaz 1 harf\n",
        "*   [0-9] sayıları arasından enaz 1 sayı\n",
        "*   [A-Z] harfleri arasından enaz 1 harf\n",
        "*   [$#@] karakterlerinden enaz 1 karakter\n",
        "*   Şifrenin uzunluğu: 6\n",
        "\n",
        "\n",
        "Programınız kullanıcının girdiği şifreyi kabul etmeli ve bunu yukarıdaki kriterlere göre kontrol etmelidir. Kriterlere uyan şifre geçerli şifredir mesajı ile ekrana yazdırılmalıdır. Eğer şifre geçerli değilse, neden geçerli olmadığına dair bir bilgilendirme geri bildirimini kullanıcıya vermelisiniz. Örneğin;\n",
        "\n",
        "\n",
        "\n",
        "```\n",
        "Lütfen şifrenizi giriniz: Bas123\n",
        "Geçersiz şifre: En az 1 özel karakter ($, #, @) içermelidir.\n",
        "Lütfen geçerli bir şifre giriniz.\n",
        "```\n",
        "\n",
        "veya\n",
        "\n",
        "```\n",
        "Lütfen şifrenizi giriniz: bas12\n",
        "Geçersiz şifre: Şifrenin uzunluğu 6 karakter olmalıdır.\n",
        "Geçersiz şifre: En az 1 büyük harf içermelidir.\n",
        "Geçersiz şifre: En az 1 özel karakter ($, #, @) içermelidir.\n",
        "Lütfen geçerli bir şifre giriniz.\n",
        "```\n",
        "\n",
        "\n"
      ],
      "metadata": {
        "id": "38h2FtE5qeh3"
      }
    },
    {
      "cell_type": "code",
      "source": [
        "# Kullanıcıdan şifre al\n",
        "kullanici_sifresi = input(\"Lütfen şifrenizi giriniz: \")\n",
        "\n",
        "# Başlangıçta tüm kriterlerin sağlanmadığını varsayalım\n",
        "kucuk_harf = buyuk_harf = rakam = ozel_karakter = False\n",
        "gecerli = True\n",
        "\n",
        "# Şifrenin uzunluğunu kontrol et\n",
        "if len(kullanici_sifresi) != 6:\n",
        "    print(\"Geçersiz şifre: Şifrenin uzunluğu 6 karakter olmalıdır.\")\n",
        "    gecerli = False\n",
        "\n",
        "# Şifredeki her bir karakteri kontrol et\n",
        "for karakter in kullanici_sifresi:\n",
        "    if karakter.islower():\n",
        "        kucuk_harf = True\n",
        "    elif karakter.isupper():\n",
        "        buyuk_harf = True\n",
        "    elif karakter.isdigit():\n",
        "        rakam = True\n",
        "    elif karakter in \"$#@\":\n",
        "        ozel_karakter = True\n",
        "\n",
        "# Tüm kriterleri kontrol et\n",
        "if not kucuk_harf:\n",
        "    print(\"Geçersiz şifre: En az 1 küçük harf içermelidir.\")\n",
        "    gecerli = False\n",
        "if not buyuk_harf:\n",
        "    print(\"Geçersiz şifre: En az 1 büyük harf içermelidir.\")\n",
        "    gecerli = False\n",
        "if not rakam:\n",
        "    print(\"Geçersiz şifre: En az 1 rakam içermelidir.\")\n",
        "    gecerli = False\n",
        "if not ozel_karakter:\n",
        "    print(\"Geçersiz şifre: En az 1 özel karakter ($, #, @) içermelidir.\")\n",
        "    gecerli = False\n",
        "\n",
        "# Şifrenin geçerli olup olmadığını kontrol et\n",
        "if gecerli:\n",
        "    print(\"Geçerli şifre\")\n",
        "else:\n",
        "    print(\"Lütfen geçerli bir şifre giriniz.\")\n"
      ],
      "metadata": {
        "colab": {
          "base_uri": "https://localhost:8080/"
        },
        "id": "Qe_1EZVRqdpd",
        "outputId": "6aad6066-f4b9-4878-84e0-67b4be9c52a7"
      },
      "execution_count": null,
      "outputs": [
        {
          "output_type": "stream",
          "name": "stdout",
          "text": [
            "Lütfen şifrenizi giriniz: bas12\n",
            "Geçersiz şifre: Şifrenin uzunluğu 6 karakter olmalıdır.\n",
            "Geçersiz şifre: En az 1 büyük harf içermelidir.\n",
            "Geçersiz şifre: En az 1 özel karakter ($, #, @) içermelidir.\n",
            "Lütfen geçerli bir şifre giriniz.\n"
          ]
        }
      ]
    },
    {
      "cell_type": "code",
      "source": [],
      "metadata": {
        "id": "Eo7EHLD2vKP3"
      },
      "execution_count": null,
      "outputs": []
    }
  ]
}