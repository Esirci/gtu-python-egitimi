{
  "nbformat": 4,
  "nbformat_minor": 0,
  "metadata": {
    "colab": {
      "provenance": []
    },
    "kernelspec": {
      "name": "python3",
      "display_name": "Python 3"
    },
    "language_info": {
      "name": "python"
    }
  },
  "cells": [
    {
      "cell_type": "code",
      "execution_count": null,
      "metadata": {
        "colab": {
          "base_uri": "https://localhost:8080/"
        },
        "id": "YRspUqemEPGI",
        "outputId": "22d28451-f147-4763-c825-b91cd153b08c"
      },
      "outputs": [
        {
          "output_type": "stream",
          "name": "stdout",
          "text": [
            "Python 3.10.12\n"
          ]
        }
      ],
      "source": [
        "!python --version"
      ]
    },
    {
      "cell_type": "markdown",
      "source": [
        "#Basic Python: Basic data types (Containers, Lists, Dictionaries, Sets, Tuples), Functions, Classes"
      ],
      "metadata": {
        "id": "Ci987ZQaL-Hm"
      }
    },
    {
      "cell_type": "markdown",
      "source": [
        "# Notebook 1: Temel Değişken Türleri ve Veri Yapıları\n",
        "\n",
        "# 1. Değişken Türleri\n",
        "#    - Sayısal Veri Türleri: int, float\n",
        "#    - Metinsel Veri Türleri: str\n",
        "#    - Mantıksal Veri Türü: bool\n"
      ],
      "metadata": {
        "id": "klBNSmw8MHa6"
      }
    },
    {
      "cell_type": "code",
      "source": [
        "# Sayısal Veri Türleri\n",
        "x = 5\n",
        "y = 3.14\n",
        "\n",
        "# Mantıksal Veri Türü\n",
        "is_student = True\n",
        "\n",
        "# Metinsel Veri Türü (string)\n",
        "name = \"John Doe\"\n"
      ],
      "metadata": {
        "id": "G082IxDTMLX1"
      },
      "execution_count": null,
      "outputs": []
    },
    {
      "cell_type": "code",
      "source": [
        "hello = 'hello'   # String literals can use single quotes\n",
        "world = \"world\"   # or double quotes; it does not matter\n",
        "# String concatenation\n",
        "hw = hello + ' ' + world\n",
        "print(hw)"
      ],
      "metadata": {
        "colab": {
          "base_uri": "https://localhost:8080/"
        },
        "id": "vlqGnHBtMTBT",
        "outputId": "4eb6177f-327e-4b64-e21e-7e49a9d52140"
      },
      "execution_count": null,
      "outputs": [
        {
          "output_type": "stream",
          "name": "stdout",
          "text": [
            "hello world\n"
          ]
        }
      ]
    },
    {
      "cell_type": "code",
      "source": [
        "\n",
        "# string formatting\n",
        "hw12 = '{} {} {}'.format(hello, world, 12)\n",
        "print(hw12)\n"
      ],
      "metadata": {
        "colab": {
          "base_uri": "https://localhost:8080/"
        },
        "id": "dimIxoTJMSpl",
        "outputId": "d2fa9549-e07f-45d8-c082-5041b24cf0d3"
      },
      "execution_count": null,
      "outputs": [
        {
          "output_type": "stream",
          "name": "stdout",
          "text": [
            "hello world 12\n"
          ]
        }
      ]
    },
    {
      "cell_type": "code",
      "source": [
        "\n",
        "s = \"hello\"\n",
        "print(s.capitalize())  # Capitalize a string\n",
        "print(s.upper())       # Convert a string to uppercase; prints \"HELLO\"\n",
        "print(s.rjust(7))      # Right-justify a string, padding with spaces\n",
        "print(s.center(7))     # Center a string, padding with spaces\n",
        "print(s.replace('l', '(ell)'))  # Replace all instances of one substring with another\n",
        "print('  world '.strip())  # Strip leading and trailing whitespace\n",
        "\n"
      ],
      "metadata": {
        "colab": {
          "base_uri": "https://localhost:8080/"
        },
        "id": "Mf0NUetwGFcy",
        "outputId": "93d55d0a-2563-4289-e74f-ec2c3dface28"
      },
      "execution_count": null,
      "outputs": [
        {
          "output_type": "stream",
          "name": "stdout",
          "text": [
            "Hello\n",
            "HELLO\n",
            "  hello\n",
            " hello \n",
            "he(ell)(ell)o\n",
            "world\n"
          ]
        }
      ]
    },
    {
      "cell_type": "markdown",
      "source": [
        "# 2. Veri Yapıları\n",
        "#    - Liste (List)\n",
        "#    - Demet (Tuple)\n",
        "#    - Sözlük (Dictionary)\n",
        "#    - Küme (Set)"
      ],
      "metadata": {
        "id": "Xtfww9SVLr9t"
      }
    },
    {
      "cell_type": "code",
      "source": [
        "# Liste (List) Örnekleri\n",
        "numbers = [1, 2, 3, 4, 5]\n",
        "names = [\"Alice\", \"Bob\", \"Charlie\"]\n",
        "\n",
        "# Liste İşlemleri\n",
        "# Eleman Ekleme\n",
        "numbers.append(6)\n",
        "# Dilimleme\n",
        "sliced_list = numbers[2:4]\n",
        "# Birleştirme ve Çoğaltma\n",
        "combined_list = numbers + names\n",
        "# Liste Uzunluğu\n",
        "list_length = len(numbers)\n"
      ],
      "metadata": {
        "id": "EglHI2JdLqEN"
      },
      "execution_count": null,
      "outputs": []
    },
    {
      "cell_type": "code",
      "source": [
        "# Demet (Tuple) Örnekleri\n",
        "point = (10, 20)\n",
        "\n",
        "# Demet İşlemleri\n",
        "# Demet Elemanlarına Erişim\n",
        "x_coordinate = point[0]\n",
        "# Demet Dilimleme\n",
        "sliced_tuple = point[:1]"
      ],
      "metadata": {
        "id": "xD7NjJWSLoWN"
      },
      "execution_count": null,
      "outputs": []
    },
    {
      "cell_type": "code",
      "source": [
        "# Sözlük (Dictionary) Örnekleri\n",
        "student = {\"name\": \"John\", \"age\": 25, \"major\": \"Computer Science\"}\n",
        "\n",
        "# Sözlük İşlemleri\n",
        "# Değer Ekleme\n",
        "student[\"gpa\"] = 3.5\n",
        "# Değer Çıkarma\n",
        "removed_age = student.pop(\"age\")\n",
        "# Değer Güncelleme\n",
        "student[\"major\"] = \"Data Science\"\n"
      ],
      "metadata": {
        "id": "06BYCnl0LlPd"
      },
      "execution_count": null,
      "outputs": []
    },
    {
      "cell_type": "code",
      "source": [
        "# Küme (Set) Örnekleri\n",
        "unique_numbers = {1, 2, 3, 4, 5}\n",
        "\n",
        "# Küme İşlemleri\n",
        "# Eleman Ekleme\n",
        "unique_numbers.add(6)\n",
        "# Eleman Çıkarma\n",
        "unique_numbers.remove(3)\n",
        "# Küme Birleşimi\n",
        "union_set = unique_numbers.union({5, 6, 7})\n",
        "# Küme Kesişimi\n",
        "intersection_set = unique_numbers.intersection({4, 5, 6})\n",
        "# Küme Farkı\n",
        "difference_set = unique_numbers.difference({2, 4, 6})"
      ],
      "metadata": {
        "id": "31e3CFDiLkq1"
      },
      "execution_count": null,
      "outputs": []
    },
    {
      "cell_type": "code",
      "source": [
        "# Temel operatörler\n",
        "toplam = 5 + 3\n",
        "carpim = 4 * 6\n",
        "bolum = 10 / 2\n",
        "kalan = 15 % 7"
      ],
      "metadata": {
        "id": "-WP51-zRLhlB"
      },
      "execution_count": null,
      "outputs": []
    },
    {
      "cell_type": "code",
      "source": [
        "\n",
        "\n",
        "# Örnek: Bir sayının pozitif, negatif veya sıfır olup olmadığını kontrol etme\n",
        "number = 5\n",
        "\n",
        "if number > 0:\n",
        "    print(\"Sayı pozitif.\")\n",
        "elif number < 0:\n",
        "    print(\"Sayı negatif.\")\n",
        "else:\n",
        "    print(\"Sayı sıfır.\")"
      ],
      "metadata": {
        "colab": {
          "base_uri": "https://localhost:8080/"
        },
        "id": "zfq5wbvwLbOY",
        "outputId": "e5408239-b4c4-45f2-e21b-596e913e8b74"
      },
      "execution_count": null,
      "outputs": [
        {
          "output_type": "stream",
          "name": "stdout",
          "text": [
            "Sayı pozitif.\n"
          ]
        }
      ]
    },
    {
      "cell_type": "markdown",
      "source": [
        "#1. Koşul Yapıları (if-elif-else)"
      ],
      "metadata": {
        "id": "yChqigl8LdSc"
      }
    },
    {
      "cell_type": "code",
      "source": [
        "# Örnek: Bir öğrencinin notuna göre harf notunu belirleme\n",
        "grade = 75\n",
        "\n",
        "if grade >= 90:\n",
        "    print(\"AA\")\n",
        "elif grade >= 80:\n",
        "    print(\"BA\")\n",
        "elif grade >= 70:\n",
        "    print(\"BB\")\n",
        "elif grade >= 60:\n",
        "    print(\"CB\")\n",
        "elif grade >= 50:\n",
        "    print(\"CC\")\n",
        "else:\n",
        "    print(\"FF\")"
      ],
      "metadata": {
        "colab": {
          "base_uri": "https://localhost:8080/"
        },
        "id": "fC6S_QNVLZN8",
        "outputId": "99355311-7ee2-49a8-eace-190c05a6fc5e"
      },
      "execution_count": null,
      "outputs": [
        {
          "output_type": "stream",
          "name": "stdout",
          "text": [
            "BB\n"
          ]
        }
      ]
    },
    {
      "cell_type": "markdown",
      "source": [
        "#Döngü Yapıları (for ve while)\n",
        "\n",
        "#2.1 for Döngüsü"
      ],
      "metadata": {
        "id": "NCWjTxW-LTX0"
      }
    },
    {
      "cell_type": "code",
      "source": [
        "# Örnek: Bir liste üzerinde döngü\n",
        "numbers = [1, 2, 3, 4, 5]\n",
        "\n",
        "for num in numbers:\n",
        "    print(num)"
      ],
      "metadata": {
        "colab": {
          "base_uri": "https://localhost:8080/"
        },
        "id": "QhXbAo8XLRII",
        "outputId": "c1e0acec-90ac-4ffc-e12d-b1f3cf3ca94c"
      },
      "execution_count": null,
      "outputs": [
        {
          "output_type": "stream",
          "name": "stdout",
          "text": [
            "1\n",
            "2\n",
            "3\n",
            "4\n",
            "5\n"
          ]
        }
      ]
    },
    {
      "cell_type": "code",
      "source": [
        "# Örnek: Bir string üzerinde döngü\n",
        "name = \"Python\"\n",
        "\n",
        "for letter in name:\n",
        "    print(letter)"
      ],
      "metadata": {
        "colab": {
          "base_uri": "https://localhost:8080/"
        },
        "id": "toYNszuFLNzb",
        "outputId": "6d2bed2b-9973-43da-fb1e-50e3fa6a6fad"
      },
      "execution_count": null,
      "outputs": [
        {
          "output_type": "stream",
          "name": "stdout",
          "text": [
            "P\n",
            "y\n",
            "t\n",
            "h\n",
            "o\n",
            "n\n"
          ]
        }
      ]
    },
    {
      "cell_type": "code",
      "source": [
        "# Örnek: Belirli bir aralıktaki sayılar üzerinde döngü\n",
        "for i in range(1, 6):\n",
        "    print(i)\n"
      ],
      "metadata": {
        "colab": {
          "base_uri": "https://localhost:8080/"
        },
        "id": "c02GPChhLIZ9",
        "outputId": "4384c8dd-3e6c-42cd-9482-c31881efa093"
      },
      "execution_count": null,
      "outputs": [
        {
          "output_type": "stream",
          "name": "stdout",
          "text": [
            "1\n",
            "2\n",
            "3\n",
            "4\n",
            "5\n"
          ]
        }
      ]
    },
    {
      "cell_type": "markdown",
      "source": [
        "#while Döngüsü\n"
      ],
      "metadata": {
        "id": "CvbGScAyLCp1"
      }
    },
    {
      "cell_type": "code",
      "source": [
        "# Örnek: Belirli bir koşul sağlandığı sürece döngü\n",
        "counter = 1\n",
        "\n",
        "while counter <= 5:\n",
        "    print(counter)\n",
        "    counter += 1"
      ],
      "metadata": {
        "id": "s_0Pf5gtK_2v"
      },
      "execution_count": null,
      "outputs": []
    },
    {
      "cell_type": "code",
      "source": [
        "# Örnek: Sonsuz döngü ve break ifadesi kullanımı\n",
        "while True:\n",
        "    user_input = input(\"Çıkış için 'q' tuşuna basın: \")\n",
        "\n",
        "    if user_input.lower() == 'q':\n",
        "        print(\"Programdan çıkılıyor...\")\n",
        "        break"
      ],
      "metadata": {
        "colab": {
          "base_uri": "https://localhost:8080/"
        },
        "id": "wPxXGSUAK4hr",
        "outputId": "ca2a4539-ac60-4c83-eb19-21984b848512"
      },
      "execution_count": null,
      "outputs": [
        {
          "output_type": "stream",
          "name": "stdout",
          "text": [
            "Çıkış için 'q' tuşuna basın: g\n",
            "Çıkış için 'q' tuşuna basın: q\n",
            "Programdan çıkılıyor...\n"
          ]
        }
      ]
    }
  ]
}