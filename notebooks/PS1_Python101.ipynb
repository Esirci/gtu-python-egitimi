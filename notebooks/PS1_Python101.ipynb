{
  "nbformat": 4,
  "nbformat_minor": 0,
  "metadata": {
    "colab": {
      "provenance": []
    },
    "kernelspec": {
      "name": "python3",
      "display_name": "Python 3"
    },
    "language_info": {
      "name": "python"
    }
  },
  "cells": [
    {
      "cell_type": "markdown",
      "source": [
        "# Soru 1\n",
        "\n",
        "Kullanıcıdan saniye cinsinden bir süre girmesini isteyin ve bunu bir float'a dönüştürün. Saniyeleri günlere, saatlere, dakikalara ve saniyelere dönüştüren bir Python programı yazın.\n",
        "Örneğin kullanıcının girdiği 1234565 değeri için aşağıdaki gibi bir çıktı elde etmesini sağlayın :\n",
        "\n",
        "\n",
        "```\n",
        "Saniye cinsinden zamanı yazınız: 1234565\n",
        "14.0 gün, 6.0 saat, 56.0 dakika, ve 5.0 saniye\n",
        "```\n",
        "\n",
        "\n",
        "\n",
        "\n"
      ],
      "metadata": {
        "id": "HlcS_ZzhYyUv"
      }
    },
    {
      "cell_type": "code",
      "source": [
        "# Kullanıcıdan saniye cinsinden bir zaman süresi girmesini ve bunu bir float'a dönüştürmesini isteyin.\n",
        "time = float(input(\"Saniye cinsinden zamanı yazınız: \"))"
      ],
      "metadata": {
        "colab": {
          "base_uri": "https://localhost:8080/"
        },
        "id": "-XHRDhCP5PVs",
        "outputId": "87c5201e-ec0d-4863-9f6f-11d53ae89cc8"
      },
      "execution_count": null,
      "outputs": [
        {
          "name": "stdout",
          "output_type": "stream",
          "text": [
            "Saniye cinsinden zamanı yazınız: 1234565\n"
          ]
        }
      ]
    },
    {
      "cell_type": "code",
      "source": [
        "# Verilen süre içindeki tam gün sayısını hesaplayın.\n",
        "day = time // (24 * 3600)"
      ],
      "metadata": {
        "id": "n_9sjh815PLB"
      },
      "execution_count": null,
      "outputs": []
    },
    {
      "cell_type": "code",
      "source": [
        "# Tam günleri çıkardıktan sonra kalan saniyeleri tutmak için zaman değişkenini güncelleyin.\n",
        "\n",
        "\n"
      ],
      "metadata": {
        "id": "_jUmmXtg5PHj"
      },
      "execution_count": null,
      "outputs": []
    },
    {
      "cell_type": "code",
      "source": [
        "# Kalan süredeki tam saat sayısını hesaplayın.\n",
        "\n",
        "\n"
      ],
      "metadata": {
        "id": "82CZxQx85O57"
      },
      "execution_count": null,
      "outputs": []
    },
    {
      "cell_type": "code",
      "source": [
        "# Tam saatleri çıkardıktan sonra kalan saniyeleri tutmak için zaman değişkenini güncelleyin.\n",
        "\n",
        "\n"
      ],
      "metadata": {
        "id": "RNXxi6hE5W35"
      },
      "execution_count": null,
      "outputs": []
    },
    {
      "cell_type": "code",
      "source": [
        "# Kalan süredeki tam dakika sayısını hesaplayın.\n",
        "\n",
        "\n"
      ],
      "metadata": {
        "id": "KT0xNcX95XCj"
      },
      "execution_count": null,
      "outputs": []
    },
    {
      "cell_type": "code",
      "source": [
        "# Tam dakikaları çıkardıktan sonra kalan saniyeleri tutmak için zaman değişkenini güncelleyin.\n",
        "\n",
        "\n"
      ],
      "metadata": {
        "id": "OO7B-M2E5XJS"
      },
      "execution_count": null,
      "outputs": []
    },
    {
      "cell_type": "code",
      "source": [
        "# 'time' değişkeni artık kalan saniyeleri temsil eder ve bu da saniye sayısıdır.\n",
        "\n",
        "\n"
      ],
      "metadata": {
        "id": "Cer1p4tudMPc"
      },
      "execution_count": null,
      "outputs": []
    },
    {
      "cell_type": "code",
      "source": [
        "# Zaman süresini biçimli olarak yazdırın.\n",
        "print(f\"{day} gün, {hour} saat, {minutes} dakika, ve {seconds} saniye\")"
      ],
      "metadata": {
        "colab": {
          "base_uri": "https://localhost:8080/"
        },
        "id": "0q-SNUn_5cc3",
        "outputId": "9a929726-5930-4e83-839b-4daaa5fe4433"
      },
      "execution_count": null,
      "outputs": [
        {
          "output_type": "stream",
          "name": "stdout",
          "text": [
            "14.0 gün, 6.0 saat, 56.0 dakika, ve 5.0 saniye\n"
          ]
        }
      ]
    },
    {
      "cell_type": "markdown",
      "source": [
        "# Soru 2\n",
        "\n",
        "Virgülle ayrılmış sayı dizisini girdi olarak kabul eden ve ardından 5'e bölünebilir olup olmadıklarını kontrol eden bir program yazın. 5'e bölünebilen sayılar virgülle ayrılmış bir sıra halinde yazdırılacaktır.\n",
        "\n",
        "Örnek:\n",
        "\n",
        "Virgülle ayrılmış sayılar giriniz: 3100,1003,1030,3001\n",
        "\n",
        "5'e bölünen sayılar: 3100,1030\n"
      ],
      "metadata": {
        "id": "0sPXF4z4gK7N"
      }
    },
    {
      "cell_type": "code",
      "source": [
        "# Kullanıcıdan girdi alın\n",
        "numbers = input(\"Virgülle ayrılmış sayılar giriniz:  \")"
      ],
      "metadata": {
        "colab": {
          "base_uri": "https://localhost:8080/"
        },
        "id": "M0C_4brY50vu",
        "outputId": "c38cf55c-4d4a-4388-9bfc-4ff3c5c9cae9"
      },
      "execution_count": null,
      "outputs": [
        {
          "name": "stdout",
          "output_type": "stream",
          "text": [
            "Virgülle ayrılmış sayılar giriniz:  3100,1003,1030,3001\n"
          ]
        }
      ]
    },
    {
      "cell_type": "code",
      "source": [
        "# Giriş dizesini bir sayı listesine bölün\n",
        "numbers_list = numbers.split(\",\")"
      ],
      "metadata": {
        "id": "TmLSrgsk54sm"
      },
      "execution_count": null,
      "outputs": []
    },
    {
      "cell_type": "code",
      "source": [
        "# Bölünebilir sayıları saklamak için divisible_numbers isimli boş bir liste başlatın\n"
      ],
      "metadata": {
        "id": "Q2jPqqgT542O"
      },
      "execution_count": null,
      "outputs": []
    },
    {
      "cell_type": "code",
      "source": [
        "# Sayılar listesinde yineleme\n",
        "for number in numbers_list:\n",
        "  # String'i tamsayıya (int) dönüştürme\n",
        "\n",
        "\n",
        "  # Sayının 5 ile bölünebilir olup olmadığını kontrol edin\n",
        "\n",
        "  # Sayıyı bölünebilir sayılar listesine ekleyin\n",
        "\n",
        "\n",
        "# Bölünebilir sayıları virgülle ayrılmış bir dizede birleştirin\n"
      ],
      "metadata": {
        "id": "BsvRnpPf59uw"
      },
      "execution_count": null,
      "outputs": []
    },
    {
      "cell_type": "code",
      "source": [
        "# Sonucu yazdırın\n",
        "print(f\"5'e bölünen sayılar: {result}\")"
      ],
      "metadata": {
        "colab": {
          "base_uri": "https://localhost:8080/"
        },
        "id": "5ORqAP4g59yX",
        "outputId": "8ccd7c72-dc9a-411d-9f90-f876313ef087"
      },
      "execution_count": null,
      "outputs": [
        {
          "output_type": "stream",
          "name": "stdout",
          "text": [
            "5'e bölünen sayılar: 3100,1030\n"
          ]
        }
      ]
    },
    {
      "cell_type": "markdown",
      "source": [
        "# SORU 3\n",
        "Kullanıcıların bir e-ticaret sitesine kayıt olmak için oluşturacakları hesap için geçerli kullanıcı adı ve şifre seçmesi gerekmektedir. Kullanıcılar tarafından girilen şifrenin geçerliliğini kontrol etmek için bir program yazmalısınız.\n",
        "\n",
        "Şifreyi kontrol etmek için kriterler aşağıdaki gibidir:\n",
        "\n",
        "*   [a-z] harfleri arasından enaz 1 harf\n",
        "*   [0-9] sayıları arasından enaz 1 sayı\n",
        "*   [A-Z] harfleri arasından enaz 1 harf\n",
        "*   [$#@] karakterlerinden enaz 1 karakter\n",
        "*   Şifrenin uzunluğu: 6\n",
        "\n",
        "\n",
        "Programınız kullanıcının girdiği şifreyi kabul etmeli ve bunu yukarıdaki kriterlere göre kontrol etmelidir. Kriterlere uyan şifre geçerli şifredir mesajı ile ekrana yazdırılmalıdır. Eğer şifre geçerli değilse, neden geçerli olmadığına dair bir bilgilendirme geri bildirimini kullanıcıya vermelisiniz. Örneğin;\n",
        "\n",
        "\n",
        "\n",
        "```\n",
        "Lütfen şifrenizi giriniz: Bas123\n",
        "Geçersiz şifre: En az 1 özel karakter ($, #, @) içermelidir.\n",
        "Lütfen geçerli bir şifre giriniz.\n",
        "```\n",
        "\n",
        "veya\n",
        "\n",
        "```\n",
        "Lütfen şifrenizi giriniz: bas12\n",
        "Geçersiz şifre: Şifrenin uzunluğu 6 karakter olmalıdır.\n",
        "Geçersiz şifre: En az 1 büyük harf içermelidir.\n",
        "Geçersiz şifre: En az 1 özel karakter ($, #, @) içermelidir.\n",
        "Lütfen geçerli bir şifre giriniz.\n",
        "```\n",
        "\n",
        "\n"
      ],
      "metadata": {
        "id": "38h2FtE5qeh3"
      }
    },
    {
      "cell_type": "code",
      "source": [
        "# Kullanıcıdan şifre al\n",
        "kullanici_sifresi ="
      ],
      "metadata": {
        "id": "n-16K8Gc69Lz"
      },
      "execution_count": null,
      "outputs": []
    },
    {
      "cell_type": "code",
      "source": [
        "# Başlangıçta tüm kriterlerin sağlanmadığını varsayalım\n",
        "kucuk_harf = buyuk_harf = rakam = ozel_karakter = False\n",
        "gecerli = True"
      ],
      "metadata": {
        "id": "Kml3gg_j69V8"
      },
      "execution_count": null,
      "outputs": []
    },
    {
      "cell_type": "code",
      "source": [
        "# Şifrenin uzunluğunu kontrol et (Eğer şifre uzunluğu 6'a eşit değilse geçersiz şifre mesajı yayınla.)\n",
        "if\n",
        "    print(\"Geçersiz şifre: Şifrenin uzunluğu 6 karakter olmalıdır.\")\n",
        "    gecerli = False"
      ],
      "metadata": {
        "id": "eGVgx89i69ZB"
      },
      "execution_count": null,
      "outputs": []
    },
    {
      "cell_type": "code",
      "source": [
        "# Şifredeki her bir karakteri kontrol et\n",
        "for karakter in kullanici_sifresi:\n",
        "    # Eğer karakter küçük harfse\n",
        "    if karakter.islower():\n",
        "        kucuk_harf = True\n",
        "    # Eğer karakter büyük harf varsa\n",
        "    elif\n",
        "\n",
        "    # Eğer karakter bir rakamsa\n",
        "    elif\n",
        "\n",
        "    # Eğer karakter \"$#@\" lardan biri ise\n",
        "    elif karakter in \"$#@\":\n",
        "        ozel_karakter = True"
      ],
      "metadata": {
        "id": "C7o_6EgN7JxC"
      },
      "execution_count": null,
      "outputs": []
    },
    {
      "cell_type": "code",
      "source": [
        "# Tüm kriterleri kontrol et\n",
        "if not kucuk_harf:\n",
        "    print(\"Geçersiz şifre: En az 1 küçük harf içermelidir.\")\n",
        "    gecerli = False\n",
        "#büyük harf hatası\n",
        "if not\n",
        "\n",
        "#rakam hatası\n",
        "if not\n",
        "\n",
        "#özel karakter hatası\n",
        "if not ozel_karakter:\n",
        "    print(\"Geçersiz şifre: En az 1 özel karakter ($, #, @) içermelidir.\")\n",
        "    gecerli = False"
      ],
      "metadata": {
        "id": "ivA_aVZh7M2o"
      },
      "execution_count": null,
      "outputs": []
    },
    {
      "cell_type": "code",
      "source": [
        "# Şifrenin geçerli olup olmadığını kontrol et\n",
        "if gecerli:\n",
        "    print(\"Geçerli şifre\")\n",
        "else:\n",
        "\n"
      ],
      "metadata": {
        "colab": {
          "base_uri": "https://localhost:8080/"
        },
        "id": "Qe_1EZVRqdpd",
        "outputId": "6aad6066-f4b9-4878-84e0-67b4be9c52a7"
      },
      "execution_count": null,
      "outputs": [
        {
          "output_type": "stream",
          "name": "stdout",
          "text": [
            "Lütfen şifrenizi giriniz: bas12\n",
            "Geçersiz şifre: Şifrenin uzunluğu 6 karakter olmalıdır.\n",
            "Geçersiz şifre: En az 1 büyük harf içermelidir.\n",
            "Geçersiz şifre: En az 1 özel karakter ($, #, @) içermelidir.\n",
            "Lütfen geçerli bir şifre giriniz.\n"
          ]
        }
      ]
    },
    {
      "cell_type": "code",
      "source": [],
      "metadata": {
        "id": "Eo7EHLD2vKP3"
      },
      "execution_count": null,
      "outputs": []
    }
  ]
}