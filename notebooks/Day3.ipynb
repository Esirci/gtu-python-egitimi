{
  "cells": [
    {
      "cell_type": "markdown",
      "metadata": {
        "id": "Bm_FsGblr3A1"
      },
      "source": [
        "**Dosyadan Okuma/yazma**\n",
        "\n",
        "Dosyayı Google Drive'a yükleme adımları:\n",
        "\n",
        "1.   Google Drive'a gidin (https://drive.google.com) ve oturum açın.\n",
        "2.   \"New\" (Yeni) düğmesine tıklayın ve \"File upload\" (Dosya yükle) seçeneğini seçin.\n",
        "\"ornek_dosya.txt\" dosyasını seçin ve yükleyin.\n",
        "\n",
        "Dosya şimdi Google Drive'ınıza yüklenmiş olmalı. Şimdi Colab ortamında bu dosyayı okumak için aşağıdaki kodu kullanabilirsiniz:"
      ]
    },
    {
      "cell_type": "code",
      "execution_count": null,
      "metadata": {
        "colab": {
          "base_uri": "https://localhost:8080/"
        },
        "id": "UNsEj1FBr4Lb",
        "outputId": "b57ff18b-72cb-44d5-af2f-78b5bfc36cb1"
      },
      "outputs": [
        {
          "name": "stdout",
          "output_type": "stream",
          "text": [
            "Mounted at /content/drive\n"
          ]
        }
      ],
      "source": [
        "from google.colab import drive\n",
        "\n",
        "# Google Drive'ı bağlama\n",
        "drive.mount('/content/drive')"
      ]
    },
    {
      "cell_type": "code",
      "execution_count": null,
      "metadata": {
        "colab": {
          "base_uri": "https://localhost:8080/"
        },
        "id": "LcJf7ZYDtApr",
        "outputId": "15db4c84-5174-468b-bd0e-de86754d8140"
      },
      "outputs": [
        {
          "name": "stdout",
          "output_type": "stream",
          "text": [
            "['101', 'Ali Veli', '85\\n']\n",
            "['102', 'Ayşe Fatma', '55\\n']\n",
            "['103', 'Ahmet Mehmet', '75\\n']\n",
            "['104', 'Zeynep Derya', '10\\n']\n",
            "['105', 'Fatih Selim', '65\\n']\n",
            "['106', 'Mehmet Ali', '18\\n']\n",
            "['107', 'Nur Ayşe', '78\\n']\n",
            "['108', 'Aliye Zeynep', '13\\n']\n",
            "['109', 'Hasan Hüseyin', '70\\n']\n",
            "['110', 'Emre Can', '22\\n']\n",
            "['111', 'Ahmet Kamil', '96\\n']\n",
            "['112', 'Gizem Nur', '72\\n']\n",
            "['113', 'Deniz Burak', '14']\n"
          ]
        }
      ],
      "source": [
        "# Dosya yolunu belirtme\n",
        "#ilgili dosya dataset klasörü altında mevcut\n",
        "dosya_yolu = '/content/drive/MyDrive/StudentList_colab.txt'\n",
        "\n",
        "# Dosyayı okuma\n",
        "with open(dosya_yolu, 'r') as xxx:\n",
        "    for satir in xxx:\n",
        "        print(satir.strip('').split(','))"
      ]
    },
    {
      "cell_type": "code",
      "execution_count": null,
      "metadata": {
        "colab": {
          "base_uri": "https://localhost:8080/"
        },
        "id": "ocpp9ZHItS0W",
        "outputId": "729e8de2-ad7b-494b-9349-c8099f32eda9"
      },
      "outputs": [
        {
          "name": "stdout",
          "output_type": "stream",
          "text": [
            "{'Ali Veli': {'numara': 101, 'not': 85}, 'Ayşe Fatma': {'numara': 102, 'not': 55}, 'Ahmet Mehmet': {'numara': 103, 'not': 75}, 'Zeynep Derya': {'numara': 104, 'not': 10}, 'Fatih Selim': {'numara': 105, 'not': 65}, 'Mehmet Ali': {'numara': 106, 'not': 18}, 'Nur Ayşe': {'numara': 107, 'not': 78}, 'Aliye Zeynep': {'numara': 108, 'not': 13}, 'Hasan Hüseyin': {'numara': 109, 'not': 70}, 'Emre Can': {'numara': 110, 'not': 22}, 'Ahmet Kamil': {'numara': 111, 'not': 96}, 'Gizem Nur': {'numara': 112, 'not': 72}, 'Deniz Burak': {'numara': 113, 'not': 14}}\n"
          ]
        }
      ],
      "source": [
        "#PS2 deki sözlük yapısına dönüştürme\n",
        "# Öğrenci bilgilerini içeren boş bir sözlük oluşturalım\n",
        "ogrenciler = {}\n",
        "\n",
        "# Dosyayı açıp her bir satırı okuyarak verileri sözlüğe ekleyelim\n",
        "with open(dosya_yolu, \"r\") as dosya:\n",
        "    for satir in dosya:\n",
        "        # Her satırı virgüllerle ayırarak öğrenci bilgilerini elde edelim\n",
        "        numara, adSoyad, notu = satir.strip().split(\",\")\n",
        "        # Öğrenci adını ve numarasını anahtar, öğrenci numarası ve notunu değer olarak kullanarak sözlüğe ekleyelim\n",
        "        ogrenciler[adSoyad] = {\"numara\": int(numara), \"not\": int(notu)}\n",
        "\n",
        "# Oluşturulan sözlüğü ekrana yazdıralım\n",
        "print(ogrenciler)"
      ]
    },
    {
      "cell_type": "code",
      "execution_count": null,
      "metadata": {
        "colab": {
          "base_uri": "https://localhost:8080/"
        },
        "id": "1Mi0huWFtiGL",
        "outputId": "fd5cafa5-d9f2-4c74-ccd2-0cdf70e363ea"
      },
      "outputs": [
        {
          "name": "stdout",
          "output_type": "stream",
          "text": [
            "Harf notlarının alt sınırarını girin (elemanlar arasında boşluk bırakarak): 80 60 40 20\n",
            "A harf notu alan toplam 2 öğrenci var. \n",
            "C harf notu alan toplam 1 öğrenci var. \n",
            "B harf notu alan toplam 5 öğrenci var. \n",
            "F harf notu alan toplam 4 öğrenci var. \n",
            "D harf notu alan toplam 1 öğrenci var. \n"
          ]
        }
      ],
      "source": [
        "#PS2 kodu\n",
        "#Harf notları araligi: A:85-100  B:70-85 C:55-70 D:40-55 F:0-40 (grade_listte tutalım)\n",
        "# ögrencinin notuna bakarak hangi harf notunu aldigina kara veren fonksiyon yazin.\n",
        "def harf_notu(notu, grade_list):\n",
        "    if notu >= grade_list[0]:\n",
        "        return \"A\"\n",
        "    elif notu >= grade_list[1]:\n",
        "        return \"B\"\n",
        "    elif notu >= grade_list[2]:\n",
        "        return \"C\"\n",
        "    elif notu >= grade_list[3]:\n",
        "        return \"D\"\n",
        "    else:\n",
        "        return \"F\"\n",
        "\n",
        "#yeni bir sözlük tanımlayalım\n",
        "harf_notlari = {}\n",
        "\n",
        "#harf notlarının alt sınırlarını verdik. A = 85 alt sınır\n",
        "#grade_list = [85,70,55,40]\n",
        "\n",
        "#grade_list elemanları kullanıcıdan alınabilir.\n",
        "#Böylece harf not aralıklarını istediğimiz gibi değiştirebiliriz,\n",
        "#kodun içini ellemeden farklı sonuçları görebiliriz.\n",
        "\n",
        "liste = input(\"Harf notlarının alt sınırarını girin (elemanlar arasında boşluk bırakarak): \")\n",
        "# Kullanıcının girdisini boşluklara göre ayırarak liste oluştur\n",
        "grade_list_ch = liste.split()\n",
        "# Liste elemanlarını tam sayıya dönüştür\n",
        "grade_list = [];\n",
        "for eg in grade_list_ch:\n",
        "  grade_list.append(int(eg))\n",
        "\n",
        "# Tüm öğrencilerin notlarını kontrol et\n",
        "for ogrenci in ogrenciler.values():\n",
        "    # Her öğrencinin notunu al\n",
        "    ogrenci_notu = ogrenci[\"not\"]\n",
        "\n",
        "    # Notu harf notuna dönüştür\n",
        "    harf = harf_notu(ogrenci_notu,grade_list)\n",
        "\n",
        "    # Eğer harf, harf_notlari sözlüğünde varsa, öğrenci sayısını bir artır\n",
        "    if harf in harf_notlari:\n",
        "        harf_notlari[harf][\"ogrenci_sayisi\"] = harf_notlari[harf][\"ogrenci_sayisi\"] +1\n",
        "\n",
        "    # Eğer harf yoksa, yeni bir girdi oluştur ve öğrenci sayısını 1 olarak ayarla\n",
        "    else:\n",
        "        harf_notlari[harf] = {\"ogrenci_sayisi\": 1}\n",
        "\n",
        "#harf_notları = {A:3,B:4,c:2,D:3,F:1}\n",
        "# Harf notlarına göre öğrenci sayılarını ve not aralıklarını ekrana yazdır\n",
        "for harf, bilgiler in harf_notlari.items():\n",
        "    print(f\"{harf} harf notu alan toplam {bilgiler['ogrenci_sayisi']} öğrenci var. \")"
      ]
    },
    {
      "cell_type": "code",
      "execution_count": null,
      "metadata": {
        "id": "IW8X8cUvtkJO"
      },
      "outputs": [],
      "source": [
        "# Harf notlarını dosyaya yaz\n",
        "with open(\"/content/drive/MyDrive/harf_notlari.txt\", \"w\") as dosya:\n",
        "    # Harf notlarını ve öğrenci sayılarını dosyaya yaz\n",
        "    for harf, bilgiler in harf_notlari.items():\n",
        "        dosya.write(f\"{harf} harf notu alan toplam {bilgiler['ogrenci_sayisi']} öğrenci var.\\n\")"
      ]
    },
    {
      "cell_type": "code",
      "execution_count": null,
      "metadata": {
        "colab": {
          "base_uri": "https://localhost:8080/"
        },
        "id": "DO5jD5LtuIky",
        "outputId": "034a395c-302e-4d95-aae4-7d39d63e40ce"
      },
      "outputs": [
        {
          "name": "stdout",
          "output_type": "stream",
          "text": [
            "A harf notu alan toplam 2 öğrenci var.\n",
            "C harf notu alan toplam 1 öğrenci var.\n",
            "B harf notu alan toplam 5 öğrenci var.\n",
            "F harf notu alan toplam 4 öğrenci var.\n",
            "D harf notu alan toplam 1 öğrenci var.\n"
          ]
        }
      ],
      "source": [
        "#dosyaya yazılmış mı kontrol edelim\n",
        "\n",
        "# Dosyayı oku ve içeriğini ekrana yazdır\n",
        "with open(\"/content/drive/MyDrive/harf_notlari.txt\", \"r\") as dosya:\n",
        "    for satir in dosya:\n",
        "        print(satir.strip())"
      ]
    },
    {
      "cell_type": "code",
      "execution_count": null,
      "metadata": {
        "colab": {
          "base_uri": "https://localhost:8080/"
        },
        "id": "uj7F_AAsuf45",
        "outputId": "be7e49ef-dc93-4351-fb77-a63a0f8ecf1e"
      },
      "outputs": [
        {
          "name": "stdout",
          "output_type": "stream",
          "text": [
            "Dosyanın bulunduğu dizin: /content\n"
          ]
        }
      ],
      "source": [
        "#bu dosya nerede ?\n",
        "\n",
        "import os\n",
        "\n",
        "# Dosyanın bulunduğu dizini belirt\n",
        "dosya_yolu = \"/content/drive/MyDrive/harf_notlari.txt\"\n",
        "\n",
        "# Dosyanın bulunduğu dizini ekrana yazdır\n",
        "print(\"Dosyanın bulunduğu dizin:\", os.getcwd())"
      ]
    },
    {
      "cell_type": "markdown",
      "metadata": {
        "id": "4ZhZz54SoeI-"
      },
      "source": [
        "## NumPy (Numerical Python) Giriş\n",
        "\n",
        "NumPy, diziler, çok boyutlu diziler ve matrislerle çalışma imkanı sağlayan bir Python kütüphanesidir. Doğrusal cebir, fourier dönüşümü ve matrisler alanında çalışmak için de gerekli özelleşmiş işlevlere sahiptir. Açık kaynaklı bir projedir ve 2005 yılında Travis Oliphant tarafından oluşturulmuştur.\n",
        "\n",
        "https://github.com/numpy/numpy\n",
        "\n",
        "**Neden NumPy?**\n",
        "\n",
        "*   Python'da dizilerin amacına hizmet eden listelerimiz var, ancak NumPy, geleneksel Python listelerinden 50 kata kadar daha hızlı bir dizi nesnesi sağlamayı amaçlamaktadır.\n",
        "*   NumPy'deki dizi nesnesi ndarray olarak adlandırılır, ndarray ile çalışmayı çok kolaylaştıran birçok destekleyici işlev sağlar.\n",
        "*   Diziler, hız ve kaynakların çok önemli olduğu veri biliminde çok sık kullanılır.\n",
        "\n",
        "**NumPy Neden Listelerden Daha Hızlı?**\n",
        "NumPy bir Python kütüphanesidir ve kısmen Python’da yazılmıştır, ancak hızlı hesaplama gerektiren parçaların çoğu C veya C ++ ile yazılmıştır.\n",
        "\n"
      ]
    },
    {
      "cell_type": "markdown",
      "metadata": {
        "id": "LqVPU8AcojmK"
      },
      "source": [
        "## Kütüphane Kurulumları\n",
        "Colab üzerinde aşağıdaki komutu kod hücresine yazarak varsayılan olarak yüklenmemiş kütüphaneleri yükleyebiliriz:\n",
        "\n",
        "```\n",
        "! pip install [kütüphane_ismi]\n",
        "```\n",
        "\n",
        "https://docs.python.org/tr/3/installing/index.html"
      ]
    },
    {
      "cell_type": "code",
      "execution_count": null,
      "metadata": {
        "colab": {
          "base_uri": "https://localhost:8080/"
        },
        "id": "O1LUYo_gogbE",
        "outputId": "1056b661-117f-47ef-c5e5-f8190a0a1d2f"
      },
      "outputs": [
        {
          "name": "stdout",
          "output_type": "stream",
          "text": [
            "Requirement already satisfied: NumPy in /usr/local/lib/python3.10/dist-packages (1.25.2)\n"
          ]
        }
      ],
      "source": [
        "!pip install NumPy"
      ]
    },
    {
      "cell_type": "code",
      "execution_count": null,
      "metadata": {
        "id": "9TRhpIPno6kT"
      },
      "outputs": [],
      "source": [
        "#NumPy kurulduktan sonra, import anahtar sözcüğünü ekleyerek uygulamalarınıza aktarın.\n",
        "#NumPy genellikle np takma adı (alias) altında içe aktarılır.\n",
        "#Artık NumPy paketinden numpy yerine np olarak bahsedilebilir.\n",
        "import numpy as np"
      ]
    },
    {
      "cell_type": "code",
      "execution_count": null,
      "metadata": {
        "colab": {
          "base_uri": "https://localhost:8080/"
        },
        "id": "qd3_8WqPpEfS",
        "outputId": "b82f1b24-a86a-4422-ec92-a77b634c2a36"
      },
      "outputs": [
        {
          "name": "stdout",
          "output_type": "stream",
          "text": [
            "[1 2 3 4 5 6 7]\n",
            "[2 3]\n",
            "[1 4 7]\n"
          ]
        }
      ],
      "source": [
        "b = np.array([1, 2, 3, 4, 5,6,7])\n",
        "print(b)\n",
        "\n",
        "print(b[1:3]) # 1. ve 3. elemanların arasındakiler\n",
        "\n",
        "print(b[::3]) # x=3 eleman aralıkla"
      ]
    },
    {
      "cell_type": "code",
      "execution_count": null,
      "metadata": {
        "colab": {
          "base_uri": "https://localhost:8080/"
        },
        "id": "5o5rodylpFw0",
        "outputId": "224521d1-3e79-41a9-c810-380fa9e89c51"
      },
      "outputs": [
        {
          "name": "stdout",
          "output_type": "stream",
          "text": [
            "[[1 2 3 4 5 6]\n",
            " [4 5 6 0 0 0]]\n",
            "1\n",
            "2\n"
          ]
        }
      ],
      "source": [
        "#kac boyut(dimension) var\n",
        "c = np.array([[1, 2, 3,4,5,6],\n",
        "             [4, 5, 6,0,0,0]])\n",
        "print(c)\n",
        "\n",
        "print(b.ndim)  # 1\n",
        "print(c.ndim)  # 2"
      ]
    },
    {
      "cell_type": "code",
      "execution_count": null,
      "metadata": {
        "colab": {
          "base_uri": "https://localhost:8080/"
        },
        "id": "29Mx2wN6pItA",
        "outputId": "11a26264-7f13-461c-c063-549981ae6dbf"
      },
      "outputs": [
        {
          "name": "stdout",
          "output_type": "stream",
          "text": [
            "(2, 4)\n"
          ]
        }
      ],
      "source": [
        "arr = np.array([[1, 2, 3, 4], [5, 6, 7, 8]])\n",
        "print(arr.shape)  # (2, 4)  #(shape), her boyuttaki öğelerin sayısıdır.\n"
      ]
    },
    {
      "cell_type": "code",
      "execution_count": null,
      "metadata": {
        "colab": {
          "base_uri": "https://localhost:8080/"
        },
        "id": "tIsnLU6sp7EO",
        "outputId": "0c202bc4-8853-478a-bbed-9ff53ac0330d"
      },
      "outputs": [
        {
          "name": "stdout",
          "output_type": "stream",
          "text": [
            "3\n",
            "[[[ 1  2]\n",
            "  [ 3  4]\n",
            "  [ 5  6]]\n",
            "\n",
            " [[ 7  8]\n",
            "  [ 9 10]\n",
            "  [11 12]]]\n",
            "[[ 1  2  3]\n",
            " [ 4  5  6]\n",
            " [ 7  8  9]\n",
            " [10 11 12]]\n"
          ]
        }
      ],
      "source": [
        "#Aşağıdaki 1-D diziyi 12 elemanlı bir 3-D dizisine dönüştürelim.\n",
        "#En dıştaki boyut, her biri 2 eleman içeren 3 dizi içeren 2 diaalt diziye sahip olacaktır:\n",
        "\n",
        "arr = np.array([1, 2, 3, 4, 5, 6, 7, 8, 9, 10, 11, 12])\n",
        "newarr = arr.reshape(2, 3, 2)\n",
        "print(newarr.ndim)\n",
        "print(newarr)\n",
        "\n",
        "wrongshape = arr.reshape(3,3)  #her boyutta 4 öğeli bir 2D diziye dönüşüm\n",
        "print(wrongshape)"
      ]
    },
    {
      "cell_type": "code",
      "execution_count": null,
      "metadata": {
        "colab": {
          "base_uri": "https://localhost:8080/"
        },
        "id": "2boto2XKqn7d",
        "outputId": "4e6a1dd9-1412-4d9c-cb02-78a7c0c1cd84"
      },
      "outputs": [
        {
          "name": "stdout",
          "output_type": "stream",
          "text": [
            "[1 2 3 4 5 6]\n"
          ]
        }
      ],
      "source": [
        "#dizileri birleştirme\n",
        "arr1 = np.array([1, 2, 3])\n",
        "arr2 = np.array([4, 5, 6])\n",
        "arr = np.concatenate((arr1, arr2))\n",
        "print(arr)"
      ]
    },
    {
      "cell_type": "code",
      "execution_count": null,
      "metadata": {
        "colab": {
          "base_uri": "https://localhost:8080/"
        },
        "id": "_wURMQS8quMm",
        "outputId": "1b80ccbe-4fc1-4f19-f3b9-c4b37c6132b5"
      },
      "outputs": [
        {
          "name": "stdout",
          "output_type": "stream",
          "text": [
            "[[1 2]\n",
            " [3 4]]\n",
            "[[5 6]\n",
            " [7 8]]\n",
            "[[1 2 5 6]\n",
            " [3 4 7 8]]\n",
            "[[1 2]\n",
            " [3 4]\n",
            " [5 6]\n",
            " [7 8]]\n"
          ]
        }
      ],
      "source": [
        "arr3 = np.array([[1, 2], [3, 4]])\n",
        "arr4 = np.array([[5, 6], [7, 8]])\n",
        "print(arr3)\n",
        "print(arr4)\n",
        "\n",
        "arr5 = np.concatenate((arr3, arr4), axis=1)  #dizileri yatay olarak birleştirir.\n",
        "print(arr5)\n",
        "\n",
        "arr6 = np.concatenate((arr3, arr4), axis=0) #dizileri dikey olarak birleştirir. Yani, dizilerin satırları üst üste gelir.\n",
        "print(arr6)"
      ]
    },
    {
      "cell_type": "markdown",
      "metadata": {
        "id": "TmBmg0TuhlF0"
      },
      "source": [
        "**Draw Line plot**"
      ]
    },
    {
      "cell_type": "code",
      "execution_count": null,
      "metadata": {
        "colab": {
          "base_uri": "https://localhost:8080/",
          "height": 472
        },
        "id": "DjNe59rMhZU3",
        "outputId": "77253282-f83a-4462-8375-c8db53247837"
      },
      "outputs": [
        {
          "data": {
            "image/png": "[encoded data removed]",
            "text/plain": [
              "<Figure size 640x480 with 1 Axes>"
            ]
          },
          "metadata": {},
          "output_type": "display_data"
        }
      ],
      "source": [
        "import matplotlib.pyplot as plt\n",
        "\n",
        "# Sample data\n",
        "x_values = [1, 2, 3, 4, 5]\n",
        "y_values = [10, 12, 5, 8, 15]\n",
        "\n",
        "# The marker='o' parameter adds circular markers at each data point, and linestyle='-' connects the points with a line.\n",
        "markers = ['>', '*', '+', 'x', 'o', 'v']\n",
        "# Create a line plot\n",
        "plt.plot(x_values, y_values, marker=markers[1], linestyle='-',markersize = 9)\n",
        "\n",
        "# Add labels and title\n",
        "plt.xlabel('X-axis  veriler')\n",
        "plt.ylabel('Y-axis zamanlar')\n",
        "plt.title('Line Plot Example', loc='left')\n",
        "\n",
        "\n",
        "#If you want to save the bar plot as png, eps, jpeg file, format option can be changed\n",
        "plt.savefig('lineplot.eps', format='eps', bbox_inches='tight')\n"
      ]
    },
    {
      "cell_type": "markdown",
      "metadata": {
        "id": "FM-V1K6fhrxH"
      },
      "source": [
        "**Draw Bar Plot**"
      ]
    },
    {
      "cell_type": "code",
      "execution_count": null,
      "metadata": {
        "colab": {
          "base_uri": "https://localhost:8080/",
          "height": 472
        },
        "id": "8HTu4XSuhuvJ",
        "outputId": "7f9822f5-6b82-473e-c9ce-a798ab9aef93"
      },
      "outputs": [
        {
          "data": {
            "image/png": "[encoded data removed]",
            "text/plain": [
              "<Figure size 640x480 with 1 Axes>"
            ]
          },
          "metadata": {},
          "output_type": "display_data"
        }
      ],
      "source": [
        "#Make sure to install Matplotlib before running the code: pip install matplotlib\n",
        "\n",
        "#import matplotlib.pyplot as plt\n",
        "\n",
        "# Sample data\n",
        "categories = ['Category A', 'Category B', 'Category C', 'Category D']\n",
        "values = [10, 25, 15, 30]\n",
        "\n",
        "#Color options which you can select\n",
        "colors = ['blue', 'orange', 'green', 'red']\n",
        "# Create a bar plot\n",
        "#plt.bar(categories, values, color=colors[:])# tüm renkleri kullan\n",
        "plt.bar(categories, values, color=colors[1:3])\n",
        "\n",
        "# Add labels and title\n",
        "plt.xlabel('Categories')\n",
        "plt.ylabel('Values')\n",
        "plt.title('Bar Plot Example')\n",
        "\n",
        "\n",
        "#If you want to save the bar plot as png, eps, jpeg file, format option can be changed\n",
        "plt.savefig('barplot.eps', format='eps', bbox_inches='tight')\n",
        "\n"
      ]
    },
    {
      "cell_type": "code",
      "execution_count": null,
      "metadata": {
        "colab": {
          "base_uri": "https://localhost:8080/",
          "height": 1000
        },
        "id": "8ceaJ4wnjkHP",
        "outputId": "a3cd7f95-27c4-4cdd-8ffa-1bc85a6691cd"
      },
      "outputs": [
        {
          "data": {
            "image/png": "[encoded data removed]",
            "text/plain": [
              "<Figure size 1000x1000 with 4 Axes>"
            ]
          },
          "metadata": {},
          "output_type": "display_data"
        }
      ],
      "source": [
        "import matplotlib.pyplot as plt\n",
        "\n",
        "# Veri örnekleri\n",
        "veri1 = [5, 7, 9, 11, 13]\n",
        "veri2 = [8, 6, 2, 5, 10]\n",
        "veri3 = [3, 12, 5, 15, 7]\n",
        "veri4 = [10, 8, 6, 2, 3]\n",
        "etiketler = ['A', 'B', 'C', 'D', 'E']\n",
        "\n",
        "# 4 subplot oluştur\n",
        "plt.figure(figsize=(5, 5))\n",
        "\n",
        "# Birinci subplot (üst sıra, sol)\n",
        "plt.subplot(2, 2, 4)\n",
        "plt.bar(etiketler, veri1, color='red')\n",
        "plt.title('Metod 1')\n",
        "\n",
        "# İkinci subplot (üst sıra, sağ)\n",
        "plt.subplot(2, 2, 2)\n",
        "plt.bar(etiketler, veri2, color='blue')\n",
        "plt.title('Metod 2')\n",
        "\n",
        "# Üçüncü subplot (alt sıra, sol)\n",
        "plt.subplot(2, 2, 1)\n",
        "plt.bar(etiketler, veri3, color='green')\n",
        "plt.title('Metod 3')\n",
        "\n",
        "# Dördüncü subplot (alt sıra, sağ)\n",
        "plt.subplot(2, 2, 3)\n",
        "plt.bar(etiketler, veri4, color='orange')\n",
        "plt.title('Metod 4')\n",
        "plt.xlabel('X ekseni')\n",
        "plt.ylabel('Y ekseni')\n",
        "\n",
        "# Grafikleri göster\n",
        "plt.tight_layout()\n",
        "\n"
      ]
    }
  ],
  "metadata": {
    "colab": {
      "provenance": []
    },
    "kernelspec": {
      "display_name": "Python 3",
      "name": "python3"
    },
    "language_info": {
      "name": "python"
    }
  },
  "nbformat": 4,
  "nbformat_minor": 0
}
